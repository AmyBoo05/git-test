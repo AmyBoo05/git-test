{
 "cells": [
  {
   "cell_type": "code",
   "execution_count": 4,
   "id": "e802c695",
   "metadata": {},
   "outputs": [],
   "source": [
    "import pandas as pd\n",
    "import numpy as np"
   ]
  },
  {
   "cell_type": "code",
   "execution_count": 5,
   "id": "171d5b8d",
   "metadata": {},
   "outputs": [
    {
     "name": "stderr",
     "output_type": "stream",
     "text": [
      "C:\\Users\\admin\\anaconda3\\lib\\site-packages\\IPython\\core\\interactiveshell.py:3165: DtypeWarning: Columns (0,4,5,6,7,8,9,10,11,12,13,14,15,16,17,18,19,20,21,22,23,24,25,26,27,28,29,30,31,32,33,34,35,36,37,38,39,40,41,42,43,44,45,46,47,48,49,50,51,52,53,54,55,56,57,58,59,60,61,62,63,64,65,66,67,68,69,70,71,72,73,74,75,76,77,78,79,80,81,82,83,84,85,86,87,88,89,90,91,92,93,94,95,96,97,98,99,100,101,102,103,104,105,106,107,108,109,110,111,112,113,114,115,116,117,118,119,120,121,122,123,124,125,126,127,128,129,130,131,132,133,134,135,136,137,138,139,140,141,142,143,144,145,146,147,148,149,150,151,152,153,154,155,156,157,158,159,160,161,162,163,164,165,166,167,168,169,170,171,172,173,174,175,176,177,178,179,180,181,182,183,184,185,186,187,188,189,190,191,192,193,194,195,196,197,198,199,200,201,202,203,204,205,206,207,208,209,210,211,212,213,214,215,216,217,218,219,220,221,222,223,224,225,226,227,228,229,230,231,232,233,234,235,236,237,238,239,240,241,242,243,244,245,246,247,248,249,250,251,252,253,254,255,256,257,258,259,260,261,262,263,264,265,266,267,268,269,270,271,272,273,274,275,276,277,278,279,280,281,282,283,284,285,286,287,288,289,290,291,292,293,294,295,296,297,298,299,300,301,302,303,304,305,306,307,308,309,310,311,312,313,314,315,316,317,318,319,320,321,322,323,324,325,326,327,328,329,330,331,332,333,334,335,336,337,338,339,340,341,342,343,344,345,346,347,348,349,350,351,352,353,354,355,356,357,358,359,360,361,362,363,364,365,366,367,368,369,370,371,372,373,374,375,376,377,378,379,380,381,382,383,384,385,386,387,388,389,390,391,392,393,394,395,396,397,398,399,400,401,402,403,404,405,406,407,408,409,410,411,412,413,414,415,416,417,418,419,420,421,422,423,424,425,426,427,428,429,430,431,432,433,434,435,436,437,438,439,440,441,442,443,444,445,446,447,448,449,450,451,452,453,454,455,456,457,458,459,460,461,462,463,464,465,466,467,468,469,470,471,472,473,474,475,476,477,478,479,480,481,482,483,484,485,486,487,488,489,490,491,492,493,494,495,496,497,498,499,500,501,502,503,504,505,506,507,508,509,510,511,512,513,514,515,516,517,518,519,520,521,522,523,524,525,526,527,528,529,530,531,532,533,534,535,536,537,538,539,540,541,542,543,544,545,546,547,548,549,550,551,552,553,554,555,556,557,558,559,560,561,562,563,564,565,566,567,568,569,570,571,572,573,574,575,576,577,578,579,580,581,582,583,584,585,586,587,588,589,590,591,592,593,594,595,596,597,598,599,600,601,602,603,604,605,606,607,608,609,610,611,612,613,614,615,616,617,618,619,620,621,622,623,624,625,626,627,628,629,630,631,632,633,634,635,636,637,638,639,640,641,642,643,644,645,646,647,648,649,650,651,652,653,654,655,656,657,658,659,660,661,662,663,664,665,666,667,668,669,670,671,672,673,674,675,676,677,678,679,680,681,682,683,684,685,686,687,688,689,690,691,692,693,694,695,696,697,698,699,700,701,702,703,704,705,706,707,708,709,710,711,712,713,714,715,716,717,718,719,720,721,722,723,724,725,726,727,728,729,730,731,732,733,734,735,736,737,738,739,740,741,742,743,744,745,746,747,748,749,750,751,752,753,754,755,756,757,758,759,760,761,762,763,764,765,766,767,768,769,770,771,772,773,774,775,776,777,778,779,780,781,782,783,784,785,786,787,788,789,790,791,792,793,794,795,796,797,798,799,800,801,802,803,804,805,806,807,808,809,810,811,812,813,814,815,816,817,818,819,820,821,822,823,824,825,826,827,828,829,830,831,832,833,834,835,836,837,838,839,840,841,842,843,844,845,846,847,848,849,850,851,852,853,854,855,856,857,858,859,860,861,862,863,864,865,866,867,868,869,870,871,872,873,874,875,876,877,878,879,880,881,882,883,884,885,886,887,888,889,890,891,892,893,894,895,896,897,898,899,900,901,902,903,904,905,906,907,908,909,910,911,912,913,914,915,916,917,918,919,920,921,922,923,924,925,926,927,928,929,930,931,932,933,934,935,936,937,938,939,940,941,942,943,944,945,946,947,948,949,950,951,952,953,954,955,956,957,958,959,960,961,962,963,964,965,966,967,968,969,970,971,972,973,974,975,976,977,978,979,980,981,982,983,984,985,986,987,988,989,990,991,992,993,994,995,996,997,998,999,1000,1001,1002,1003,1004,1005,1006,1007,1008,1009,1010,1011,1012,1013,1014,1015,1016,1017,1018,1019,1020,1021,1022,1023,1024,1025,1026,1027,1028,1029,1030,1031,1032,1033,1034,1035,1036,1037,1038,1039,1040,1041,1042,1043,1044,1045,1046,1047,1048,1049,1050,1051,1052,1053,1054,1055,1056,1057,1058,1059,1060,1061,1062,1063,1064,1065,1066,1067,1068,1069,1070,1071,1072,1073,1074,1075,1076,1077,1078,1079,1080,1081,1082,1083,1084,1085,1086,1087,1088,1089,1090,1091,1092,1093,1094,1095,1096,1097,1098,1099,1100,1101,1102,1103,1104,1105,1106,1107,1108,1109,1110,1111,1112,1113,1114,1115,1116,1117,1118,1119,1120,1121,1122,1123,1124,1125,1126,1127,1128,1129,1130,1131,1132,1133,1134,1135,1136,1137,1138,1139,1140,1141,1142,1143,1144,1145,1146,1147,1148,1149,1150,1151,1152,1153,1154,1155,1156,1157,1158,1159,1160,1161,1162,1163,1164,1165,1166,1167,1168,1169,1170,1171,1172,1173,1174,1175,1176,1177,1178,1179,1180,1181,1182,1183,1184,1185,1186,1187,1188,1189,1190,1191,1192,1193,1194,1195,1196,1197,1198,1199,1200,1201,1202,1203,1204,1205,1206,1207,1208,1209,1210,1211,1212,1213,1214,1215,1216,1217,1218,1219,1220,1221,1222,1223,1224,1225,1226,1227,1228,1229,1230,1231,1232,1233,1234,1235,1236,1237,1238,1239,1240,1241,1242,1243,1244,1245,1246,1247,1248,1249,1250,1251,1252,1253,1254,1255,1256,1257,1258,1259,1260,1261,1262,1263,1264) have mixed types.Specify dtype option on import or set low_memory=False.\n",
      "  has_raised = await self.run_ast_nodes(code_ast.body, cell_name,\n"
     ]
    }
   ],
   "source": [
    "movies=pd.read_csv(r'tmdb_5000_movies.csv')\n",
    "credits=pd.read_csv(r'tmdb_5000_credits.csv')"
   ]
  },
  {
   "cell_type": "code",
   "execution_count": 6,
   "id": "5ec1fd83",
   "metadata": {},
   "outputs": [
    {
     "data": {
      "text/html": [
       "<div>\n",
       "<style scoped>\n",
       "    .dataframe tbody tr th:only-of-type {\n",
       "        vertical-align: middle;\n",
       "    }\n",
       "\n",
       "    .dataframe tbody tr th {\n",
       "        vertical-align: top;\n",
       "    }\n",
       "\n",
       "    .dataframe thead th {\n",
       "        text-align: right;\n",
       "    }\n",
       "</style>\n",
       "<table border=\"1\" class=\"dataframe\">\n",
       "  <thead>\n",
       "    <tr style=\"text-align: right;\">\n",
       "      <th></th>\n",
       "      <th>budget</th>\n",
       "      <th>genres</th>\n",
       "      <th>homepage</th>\n",
       "      <th>id</th>\n",
       "      <th>keywords</th>\n",
       "      <th>original_language</th>\n",
       "      <th>original_title</th>\n",
       "      <th>overview</th>\n",
       "      <th>popularity</th>\n",
       "      <th>production_companies</th>\n",
       "      <th>production_countries</th>\n",
       "      <th>release_date</th>\n",
       "      <th>revenue</th>\n",
       "      <th>runtime</th>\n",
       "      <th>spoken_languages</th>\n",
       "      <th>status</th>\n",
       "      <th>tagline</th>\n",
       "      <th>title</th>\n",
       "      <th>vote_average</th>\n",
       "      <th>vote_count</th>\n",
       "    </tr>\n",
       "  </thead>\n",
       "  <tbody>\n",
       "    <tr>\n",
       "      <th>0</th>\n",
       "      <td>237000000</td>\n",
       "      <td>[{\"id\": 28, \"name\": \"Action\"}, {\"id\": 12, \"nam...</td>\n",
       "      <td>http://www.avatarmovie.com/</td>\n",
       "      <td>19995</td>\n",
       "      <td>[{\"id\": 1463, \"name\": \"culture clash\"}, {\"id\":...</td>\n",
       "      <td>en</td>\n",
       "      <td>Avatar</td>\n",
       "      <td>In the 22nd century, a paraplegic Marine is di...</td>\n",
       "      <td>150.437577</td>\n",
       "      <td>[{\"name\": \"Ingenious Film Partners\", \"id\": 289...</td>\n",
       "      <td>[{\"iso_3166_1\": \"US\", \"name\": \"United States o...</td>\n",
       "      <td>2009-12-10</td>\n",
       "      <td>2787965087</td>\n",
       "      <td>162.0</td>\n",
       "      <td>[{\"iso_639_1\": \"en\", \"name\": \"English\"}, {\"iso...</td>\n",
       "      <td>Released</td>\n",
       "      <td>Enter the World of Pandora.</td>\n",
       "      <td>Avatar</td>\n",
       "      <td>7.2</td>\n",
       "      <td>11800</td>\n",
       "    </tr>\n",
       "  </tbody>\n",
       "</table>\n",
       "</div>"
      ],
      "text/plain": [
       "      budget                                             genres  \\\n",
       "0  237000000  [{\"id\": 28, \"name\": \"Action\"}, {\"id\": 12, \"nam...   \n",
       "\n",
       "                      homepage     id  \\\n",
       "0  http://www.avatarmovie.com/  19995   \n",
       "\n",
       "                                            keywords original_language  \\\n",
       "0  [{\"id\": 1463, \"name\": \"culture clash\"}, {\"id\":...                en   \n",
       "\n",
       "  original_title                                           overview  \\\n",
       "0         Avatar  In the 22nd century, a paraplegic Marine is di...   \n",
       "\n",
       "   popularity                               production_companies  \\\n",
       "0  150.437577  [{\"name\": \"Ingenious Film Partners\", \"id\": 289...   \n",
       "\n",
       "                                production_countries release_date     revenue  \\\n",
       "0  [{\"iso_3166_1\": \"US\", \"name\": \"United States o...   2009-12-10  2787965087   \n",
       "\n",
       "   runtime                                   spoken_languages    status  \\\n",
       "0    162.0  [{\"iso_639_1\": \"en\", \"name\": \"English\"}, {\"iso...  Released   \n",
       "\n",
       "                       tagline   title  vote_average  vote_count  \n",
       "0  Enter the World of Pandora.  Avatar           7.2       11800  "
      ]
     },
     "execution_count": 6,
     "metadata": {},
     "output_type": "execute_result"
    }
   ],
   "source": [
    "movies.head(1)"
   ]
  },
  {
   "cell_type": "code",
   "execution_count": 7,
   "id": "0320c91e",
   "metadata": {},
   "outputs": [
    {
     "data": {
      "text/html": [
       "<div>\n",
       "<style scoped>\n",
       "    .dataframe tbody tr th:only-of-type {\n",
       "        vertical-align: middle;\n",
       "    }\n",
       "\n",
       "    .dataframe tbody tr th {\n",
       "        vertical-align: top;\n",
       "    }\n",
       "\n",
       "    .dataframe thead th {\n",
       "        text-align: right;\n",
       "    }\n",
       "</style>\n",
       "<table border=\"1\" class=\"dataframe\">\n",
       "  <thead>\n",
       "    <tr style=\"text-align: right;\">\n",
       "      <th></th>\n",
       "      <th>movie_id</th>\n",
       "      <th>title</th>\n",
       "      <th>cast</th>\n",
       "      <th>crew</th>\n",
       "      <th>Unnamed: 4</th>\n",
       "      <th>Unnamed: 5</th>\n",
       "      <th>Unnamed: 6</th>\n",
       "      <th>Unnamed: 7</th>\n",
       "      <th>Unnamed: 8</th>\n",
       "      <th>Unnamed: 9</th>\n",
       "      <th>...</th>\n",
       "      <th>Unnamed: 1255</th>\n",
       "      <th>Unnamed: 1256</th>\n",
       "      <th>Unnamed: 1257</th>\n",
       "      <th>Unnamed: 1258</th>\n",
       "      <th>Unnamed: 1259</th>\n",
       "      <th>Unnamed: 1260</th>\n",
       "      <th>Unnamed: 1261</th>\n",
       "      <th>Unnamed: 1262</th>\n",
       "      <th>Unnamed: 1263</th>\n",
       "      <th>Unnamed: 1264</th>\n",
       "    </tr>\n",
       "  </thead>\n",
       "  <tbody>\n",
       "    <tr>\n",
       "      <th>0</th>\n",
       "      <td>19995</td>\n",
       "      <td>Avatar</td>\n",
       "      <td>[{\"cast_id\": 242, \"character\": \"Jake Sully\", \"...</td>\n",
       "      <td>[{\"credit_id\": \"52fe48009251416c750aca23\", \"de...</td>\n",
       "      <td>NaN</td>\n",
       "      <td>NaN</td>\n",
       "      <td>NaN</td>\n",
       "      <td>NaN</td>\n",
       "      <td>NaN</td>\n",
       "      <td>NaN</td>\n",
       "      <td>...</td>\n",
       "      <td>NaN</td>\n",
       "      <td>NaN</td>\n",
       "      <td>NaN</td>\n",
       "      <td>NaN</td>\n",
       "      <td>NaN</td>\n",
       "      <td>NaN</td>\n",
       "      <td>NaN</td>\n",
       "      <td>NaN</td>\n",
       "      <td>NaN</td>\n",
       "      <td>NaN</td>\n",
       "    </tr>\n",
       "  </tbody>\n",
       "</table>\n",
       "<p>1 rows × 1265 columns</p>\n",
       "</div>"
      ],
      "text/plain": [
       "  movie_id   title                                               cast  \\\n",
       "0    19995  Avatar  [{\"cast_id\": 242, \"character\": \"Jake Sully\", \"...   \n",
       "\n",
       "                                                crew Unnamed: 4 Unnamed: 5  \\\n",
       "0  [{\"credit_id\": \"52fe48009251416c750aca23\", \"de...        NaN        NaN   \n",
       "\n",
       "  Unnamed: 6 Unnamed: 7 Unnamed: 8 Unnamed: 9  ... Unnamed: 1255  \\\n",
       "0        NaN        NaN        NaN        NaN  ...           NaN   \n",
       "\n",
       "  Unnamed: 1256 Unnamed: 1257 Unnamed: 1258 Unnamed: 1259 Unnamed: 1260  \\\n",
       "0           NaN           NaN           NaN           NaN           NaN   \n",
       "\n",
       "  Unnamed: 1261 Unnamed: 1262 Unnamed: 1263 Unnamed: 1264  \n",
       "0           NaN           NaN           NaN           NaN  \n",
       "\n",
       "[1 rows x 1265 columns]"
      ]
     },
     "execution_count": 7,
     "metadata": {},
     "output_type": "execute_result"
    }
   ],
   "source": [
    "credits.head(1)"
   ]
  },
  {
   "cell_type": "code",
   "execution_count": 8,
   "id": "83a48474",
   "metadata": {},
   "outputs": [
    {
     "data": {
      "text/plain": [
       "budget                     0\n",
       "genres                     0\n",
       "homepage                3091\n",
       "id                         0\n",
       "keywords                   0\n",
       "original_language          0\n",
       "original_title             0\n",
       "overview                   3\n",
       "popularity                 0\n",
       "production_companies       0\n",
       "production_countries       0\n",
       "release_date               1\n",
       "revenue                    0\n",
       "runtime                    2\n",
       "spoken_languages           0\n",
       "status                     0\n",
       "tagline                  844\n",
       "title                      0\n",
       "vote_average               0\n",
       "vote_count                 0\n",
       "dtype: int64"
      ]
     },
     "execution_count": 8,
     "metadata": {},
     "output_type": "execute_result"
    }
   ],
   "source": [
    "movies.isnull().sum()"
   ]
  },
  {
   "cell_type": "code",
   "execution_count": 9,
   "id": "a7776837",
   "metadata": {},
   "outputs": [
    {
     "data": {
      "text/plain": [
       "movie_id            1\n",
       "title               0\n",
       "cast                0\n",
       "crew                4\n",
       "Unnamed: 4       4803\n",
       "                 ... \n",
       "Unnamed: 1260    4812\n",
       "Unnamed: 1261    4812\n",
       "Unnamed: 1262    4812\n",
       "Unnamed: 1263    4812\n",
       "Unnamed: 1264    4812\n",
       "Length: 1265, dtype: int64"
      ]
     },
     "execution_count": 9,
     "metadata": {},
     "output_type": "execute_result"
    }
   ],
   "source": [
    "credits.isnull().sum()"
   ]
  },
  {
   "cell_type": "code",
   "execution_count": 10,
   "id": "e9e574da",
   "metadata": {},
   "outputs": [
    {
     "data": {
      "text/plain": [
       "(4803, 20)"
      ]
     },
     "execution_count": 10,
     "metadata": {},
     "output_type": "execute_result"
    }
   ],
   "source": [
    "movies.shape"
   ]
  },
  {
   "cell_type": "code",
   "execution_count": 11,
   "id": "493ab86f",
   "metadata": {},
   "outputs": [
    {
     "data": {
      "text/plain": [
       "(4813, 1265)"
      ]
     },
     "execution_count": 11,
     "metadata": {},
     "output_type": "execute_result"
    }
   ],
   "source": [
    "credits.shape"
   ]
  },
  {
   "cell_type": "code",
   "execution_count": 12,
   "id": "2af10760",
   "metadata": {},
   "outputs": [],
   "source": [
    "movies=movies.merge(credits,on='title')"
   ]
  },
  {
   "cell_type": "code",
   "execution_count": 13,
   "id": "94eb4e30",
   "metadata": {},
   "outputs": [
    {
     "data": {
      "text/plain": [
       "(4809, 1284)"
      ]
     },
     "execution_count": 13,
     "metadata": {},
     "output_type": "execute_result"
    }
   ],
   "source": [
    "movies.shape"
   ]
  },
  {
   "cell_type": "code",
   "execution_count": 14,
   "id": "ae3d67c0",
   "metadata": {},
   "outputs": [],
   "source": [
    "#only consider d req columns useful for analysis"
   ]
  },
  {
   "cell_type": "code",
   "execution_count": 15,
   "id": "b20e91cd",
   "metadata": {},
   "outputs": [],
   "source": [
    "movies=movies[['movie_id','title','overview','genres','keywords','cast','crew']]"
   ]
  },
  {
   "cell_type": "code",
   "execution_count": 16,
   "id": "ebfa0739",
   "metadata": {},
   "outputs": [
    {
     "data": {
      "text/plain": [
       "Index(['movie_id', 'title', 'overview', 'genres', 'keywords', 'cast', 'crew'], dtype='object')"
      ]
     },
     "execution_count": 16,
     "metadata": {},
     "output_type": "execute_result"
    }
   ],
   "source": [
    "movies.columns"
   ]
  },
  {
   "cell_type": "code",
   "execution_count": 17,
   "id": "048ece91",
   "metadata": {},
   "outputs": [
    {
     "data": {
      "text/html": [
       "<div>\n",
       "<style scoped>\n",
       "    .dataframe tbody tr th:only-of-type {\n",
       "        vertical-align: middle;\n",
       "    }\n",
       "\n",
       "    .dataframe tbody tr th {\n",
       "        vertical-align: top;\n",
       "    }\n",
       "\n",
       "    .dataframe thead th {\n",
       "        text-align: right;\n",
       "    }\n",
       "</style>\n",
       "<table border=\"1\" class=\"dataframe\">\n",
       "  <thead>\n",
       "    <tr style=\"text-align: right;\">\n",
       "      <th></th>\n",
       "      <th>movie_id</th>\n",
       "      <th>title</th>\n",
       "      <th>overview</th>\n",
       "      <th>genres</th>\n",
       "      <th>keywords</th>\n",
       "      <th>cast</th>\n",
       "      <th>crew</th>\n",
       "    </tr>\n",
       "  </thead>\n",
       "  <tbody>\n",
       "    <tr>\n",
       "      <th>0</th>\n",
       "      <td>19995</td>\n",
       "      <td>Avatar</td>\n",
       "      <td>In the 22nd century, a paraplegic Marine is di...</td>\n",
       "      <td>[{\"id\": 28, \"name\": \"Action\"}, {\"id\": 12, \"nam...</td>\n",
       "      <td>[{\"id\": 1463, \"name\": \"culture clash\"}, {\"id\":...</td>\n",
       "      <td>[{\"cast_id\": 242, \"character\": \"Jake Sully\", \"...</td>\n",
       "      <td>[{\"credit_id\": \"52fe48009251416c750aca23\", \"de...</td>\n",
       "    </tr>\n",
       "    <tr>\n",
       "      <th>1</th>\n",
       "      <td>285</td>\n",
       "      <td>Pirates of the Caribbean: At World's End</td>\n",
       "      <td>Captain Barbossa, long believed to be dead, ha...</td>\n",
       "      <td>[{\"id\": 12, \"name\": \"Adventure\"}, {\"id\": 14, \"...</td>\n",
       "      <td>[{\"id\": 270, \"name\": \"ocean\"}, {\"id\": 726, \"na...</td>\n",
       "      <td>[{\"cast_id\": 4, \"character\": \"Captain Jack Spa...</td>\n",
       "      <td>[{\"credit_id\": \"52fe4232c3a36847f800b579\", \"de...</td>\n",
       "    </tr>\n",
       "    <tr>\n",
       "      <th>2</th>\n",
       "      <td>206647</td>\n",
       "      <td>Spectre</td>\n",
       "      <td>A cryptic message from Bond’s past sends him o...</td>\n",
       "      <td>[{\"id\": 28, \"name\": \"Action\"}, {\"id\": 12, \"nam...</td>\n",
       "      <td>[{\"id\": 470, \"name\": \"spy\"}, {\"id\": 818, \"name...</td>\n",
       "      <td>[{\"cast_id\": 1, \"character\": \"James Bond\", \"cr...</td>\n",
       "      <td>[{\"credit_id\": \"54805967c3a36829b5002c41\", \"de...</td>\n",
       "    </tr>\n",
       "    <tr>\n",
       "      <th>3</th>\n",
       "      <td>49026</td>\n",
       "      <td>The Dark Knight Rises</td>\n",
       "      <td>Following the death of District Attorney Harve...</td>\n",
       "      <td>[{\"id\": 28, \"name\": \"Action\"}, {\"id\": 80, \"nam...</td>\n",
       "      <td>[{\"id\": 849, \"name\": \"dc comics\"}, {\"id\": 853,...</td>\n",
       "      <td>[{\"cast_id\": 2, \"character\": \"Bruce Wayne / Ba...</td>\n",
       "      <td>[{\"credit_id\": \"52fe4781c3a36847f81398c3\", \"de...</td>\n",
       "    </tr>\n",
       "    <tr>\n",
       "      <th>4</th>\n",
       "      <td>49529</td>\n",
       "      <td>John Carter</td>\n",
       "      <td>John Carter is a war-weary, former military ca...</td>\n",
       "      <td>[{\"id\": 28, \"name\": \"Action\"}, {\"id\": 12, \"nam...</td>\n",
       "      <td>[{\"id\": 818, \"name\": \"based on novel\"}, {\"id\":...</td>\n",
       "      <td>[{\"cast_id\": 5, \"character\": \"John Carter\", \"c...</td>\n",
       "      <td>[{\"credit_id\": \"52fe479ac3a36847f813eaa3\", \"de...</td>\n",
       "    </tr>\n",
       "  </tbody>\n",
       "</table>\n",
       "</div>"
      ],
      "text/plain": [
       "  movie_id                                     title  \\\n",
       "0    19995                                    Avatar   \n",
       "1      285  Pirates of the Caribbean: At World's End   \n",
       "2   206647                                   Spectre   \n",
       "3    49026                     The Dark Knight Rises   \n",
       "4    49529                               John Carter   \n",
       "\n",
       "                                            overview  \\\n",
       "0  In the 22nd century, a paraplegic Marine is di...   \n",
       "1  Captain Barbossa, long believed to be dead, ha...   \n",
       "2  A cryptic message from Bond’s past sends him o...   \n",
       "3  Following the death of District Attorney Harve...   \n",
       "4  John Carter is a war-weary, former military ca...   \n",
       "\n",
       "                                              genres  \\\n",
       "0  [{\"id\": 28, \"name\": \"Action\"}, {\"id\": 12, \"nam...   \n",
       "1  [{\"id\": 12, \"name\": \"Adventure\"}, {\"id\": 14, \"...   \n",
       "2  [{\"id\": 28, \"name\": \"Action\"}, {\"id\": 12, \"nam...   \n",
       "3  [{\"id\": 28, \"name\": \"Action\"}, {\"id\": 80, \"nam...   \n",
       "4  [{\"id\": 28, \"name\": \"Action\"}, {\"id\": 12, \"nam...   \n",
       "\n",
       "                                            keywords  \\\n",
       "0  [{\"id\": 1463, \"name\": \"culture clash\"}, {\"id\":...   \n",
       "1  [{\"id\": 270, \"name\": \"ocean\"}, {\"id\": 726, \"na...   \n",
       "2  [{\"id\": 470, \"name\": \"spy\"}, {\"id\": 818, \"name...   \n",
       "3  [{\"id\": 849, \"name\": \"dc comics\"}, {\"id\": 853,...   \n",
       "4  [{\"id\": 818, \"name\": \"based on novel\"}, {\"id\":...   \n",
       "\n",
       "                                                cast  \\\n",
       "0  [{\"cast_id\": 242, \"character\": \"Jake Sully\", \"...   \n",
       "1  [{\"cast_id\": 4, \"character\": \"Captain Jack Spa...   \n",
       "2  [{\"cast_id\": 1, \"character\": \"James Bond\", \"cr...   \n",
       "3  [{\"cast_id\": 2, \"character\": \"Bruce Wayne / Ba...   \n",
       "4  [{\"cast_id\": 5, \"character\": \"John Carter\", \"c...   \n",
       "\n",
       "                                                crew  \n",
       "0  [{\"credit_id\": \"52fe48009251416c750aca23\", \"de...  \n",
       "1  [{\"credit_id\": \"52fe4232c3a36847f800b579\", \"de...  \n",
       "2  [{\"credit_id\": \"54805967c3a36829b5002c41\", \"de...  \n",
       "3  [{\"credit_id\": \"52fe4781c3a36847f81398c3\", \"de...  \n",
       "4  [{\"credit_id\": \"52fe479ac3a36847f813eaa3\", \"de...  "
      ]
     },
     "execution_count": 17,
     "metadata": {},
     "output_type": "execute_result"
    }
   ],
   "source": [
    "movies.head()"
   ]
  },
  {
   "cell_type": "code",
   "execution_count": 18,
   "id": "959a2ab5",
   "metadata": {},
   "outputs": [
    {
     "data": {
      "text/plain": [
       "'[{\"id\": 28, \"name\": \"Action\"}, {\"id\": 12, \"name\": \"Adventure\"}, {\"id\": 14, \"name\": \"Fantasy\"}, {\"id\": 878, \"name\": \"Science Fiction\"}]'"
      ]
     },
     "execution_count": 18,
     "metadata": {},
     "output_type": "execute_result"
    }
   ],
   "source": [
    "movies.genres[0]"
   ]
  },
  {
   "cell_type": "code",
   "execution_count": 19,
   "id": "9e17a9a2",
   "metadata": {},
   "outputs": [],
   "source": [
    "import ast"
   ]
  },
  {
   "cell_type": "code",
   "execution_count": 20,
   "id": "867cef27",
   "metadata": {},
   "outputs": [],
   "source": [
    "def convert(text):\n",
    "    L=[]\n",
    "    for i in ast.literal_eval(text):\n",
    "        L.append(i['name'])\n",
    "    return L\n",
    "        \n",
    "    "
   ]
  },
  {
   "cell_type": "code",
   "execution_count": 21,
   "id": "ab17d9e7",
   "metadata": {},
   "outputs": [
    {
     "data": {
      "text/plain": [
       "['Action', 'Adventure', 'Fantasy', 'Science Fiction']"
      ]
     },
     "execution_count": 21,
     "metadata": {},
     "output_type": "execute_result"
    }
   ],
   "source": [
    "convert('[{\"id\": 28, \"name\": \"Action\"}, {\"id\": 12, \"name\": \"Adventure\"}, {\"id\": 14, \"name\": \"Fantasy\"}, {\"id\": 878, \"name\": \"Science Fiction\"}]')"
   ]
  },
  {
   "cell_type": "code",
   "execution_count": 22,
   "id": "40484760",
   "metadata": {},
   "outputs": [],
   "source": [
    "movies.dropna(inplace=True)"
   ]
  },
  {
   "cell_type": "code",
   "execution_count": 23,
   "id": "a256db58",
   "metadata": {},
   "outputs": [
    {
     "data": {
      "text/html": [
       "<div>\n",
       "<style scoped>\n",
       "    .dataframe tbody tr th:only-of-type {\n",
       "        vertical-align: middle;\n",
       "    }\n",
       "\n",
       "    .dataframe tbody tr th {\n",
       "        vertical-align: top;\n",
       "    }\n",
       "\n",
       "    .dataframe thead th {\n",
       "        text-align: right;\n",
       "    }\n",
       "</style>\n",
       "<table border=\"1\" class=\"dataframe\">\n",
       "  <thead>\n",
       "    <tr style=\"text-align: right;\">\n",
       "      <th></th>\n",
       "      <th>movie_id</th>\n",
       "      <th>title</th>\n",
       "      <th>overview</th>\n",
       "      <th>genres</th>\n",
       "      <th>keywords</th>\n",
       "      <th>cast</th>\n",
       "      <th>crew</th>\n",
       "    </tr>\n",
       "  </thead>\n",
       "  <tbody>\n",
       "    <tr>\n",
       "      <th>0</th>\n",
       "      <td>19995</td>\n",
       "      <td>Avatar</td>\n",
       "      <td>In the 22nd century, a paraplegic Marine is di...</td>\n",
       "      <td>[Action, Adventure, Fantasy, Science Fiction]</td>\n",
       "      <td>[{\"id\": 1463, \"name\": \"culture clash\"}, {\"id\":...</td>\n",
       "      <td>[{\"cast_id\": 242, \"character\": \"Jake Sully\", \"...</td>\n",
       "      <td>[{\"credit_id\": \"52fe48009251416c750aca23\", \"de...</td>\n",
       "    </tr>\n",
       "  </tbody>\n",
       "</table>\n",
       "</div>"
      ],
      "text/plain": [
       "  movie_id   title                                           overview  \\\n",
       "0    19995  Avatar  In the 22nd century, a paraplegic Marine is di...   \n",
       "\n",
       "                                          genres  \\\n",
       "0  [Action, Adventure, Fantasy, Science Fiction]   \n",
       "\n",
       "                                            keywords  \\\n",
       "0  [{\"id\": 1463, \"name\": \"culture clash\"}, {\"id\":...   \n",
       "\n",
       "                                                cast  \\\n",
       "0  [{\"cast_id\": 242, \"character\": \"Jake Sully\", \"...   \n",
       "\n",
       "                                                crew  \n",
       "0  [{\"credit_id\": \"52fe48009251416c750aca23\", \"de...  "
      ]
     },
     "execution_count": 23,
     "metadata": {},
     "output_type": "execute_result"
    }
   ],
   "source": [
    "movies['genres']=movies['genres'].apply(convert)\n",
    "movies.head(1)"
   ]
  },
  {
   "cell_type": "code",
   "execution_count": 24,
   "id": "c8113396",
   "metadata": {},
   "outputs": [
    {
     "data": {
      "text/plain": [
       "'[{\"id\": 1463, \"name\": \"culture clash\"}, {\"id\": 2964, \"name\": \"future\"}, {\"id\": 3386, \"name\": \"space war\"}, {\"id\": 3388, \"name\": \"space colony\"}, {\"id\": 3679, \"name\": \"society\"}, {\"id\": 3801, \"name\": \"space travel\"}, {\"id\": 9685, \"name\": \"futuristic\"}, {\"id\": 9840, \"name\": \"romance\"}, {\"id\": 9882, \"name\": \"space\"}, {\"id\": 9951, \"name\": \"alien\"}, {\"id\": 10148, \"name\": \"tribe\"}, {\"id\": 10158, \"name\": \"alien planet\"}, {\"id\": 10987, \"name\": \"cgi\"}, {\"id\": 11399, \"name\": \"marine\"}, {\"id\": 13065, \"name\": \"soldier\"}, {\"id\": 14643, \"name\": \"battle\"}, {\"id\": 14720, \"name\": \"love affair\"}, {\"id\": 165431, \"name\": \"anti war\"}, {\"id\": 193554, \"name\": \"power relations\"}, {\"id\": 206690, \"name\": \"mind and soul\"}, {\"id\": 209714, \"name\": \"3d\"}]'"
      ]
     },
     "execution_count": 24,
     "metadata": {},
     "output_type": "execute_result"
    }
   ],
   "source": [
    "movies.keywords[0]"
   ]
  },
  {
   "cell_type": "code",
   "execution_count": 25,
   "id": "458e0c3d",
   "metadata": {},
   "outputs": [
    {
     "data": {
      "text/html": [
       "<div>\n",
       "<style scoped>\n",
       "    .dataframe tbody tr th:only-of-type {\n",
       "        vertical-align: middle;\n",
       "    }\n",
       "\n",
       "    .dataframe tbody tr th {\n",
       "        vertical-align: top;\n",
       "    }\n",
       "\n",
       "    .dataframe thead th {\n",
       "        text-align: right;\n",
       "    }\n",
       "</style>\n",
       "<table border=\"1\" class=\"dataframe\">\n",
       "  <thead>\n",
       "    <tr style=\"text-align: right;\">\n",
       "      <th></th>\n",
       "      <th>movie_id</th>\n",
       "      <th>title</th>\n",
       "      <th>overview</th>\n",
       "      <th>genres</th>\n",
       "      <th>keywords</th>\n",
       "      <th>cast</th>\n",
       "      <th>crew</th>\n",
       "    </tr>\n",
       "  </thead>\n",
       "  <tbody>\n",
       "    <tr>\n",
       "      <th>0</th>\n",
       "      <td>19995</td>\n",
       "      <td>Avatar</td>\n",
       "      <td>In the 22nd century, a paraplegic Marine is di...</td>\n",
       "      <td>[Action, Adventure, Fantasy, Science Fiction]</td>\n",
       "      <td>[culture clash, future, space war, space colon...</td>\n",
       "      <td>[{\"cast_id\": 242, \"character\": \"Jake Sully\", \"...</td>\n",
       "      <td>[{\"credit_id\": \"52fe48009251416c750aca23\", \"de...</td>\n",
       "    </tr>\n",
       "  </tbody>\n",
       "</table>\n",
       "</div>"
      ],
      "text/plain": [
       "  movie_id   title                                           overview  \\\n",
       "0    19995  Avatar  In the 22nd century, a paraplegic Marine is di...   \n",
       "\n",
       "                                          genres  \\\n",
       "0  [Action, Adventure, Fantasy, Science Fiction]   \n",
       "\n",
       "                                            keywords  \\\n",
       "0  [culture clash, future, space war, space colon...   \n",
       "\n",
       "                                                cast  \\\n",
       "0  [{\"cast_id\": 242, \"character\": \"Jake Sully\", \"...   \n",
       "\n",
       "                                                crew  \n",
       "0  [{\"credit_id\": \"52fe48009251416c750aca23\", \"de...  "
      ]
     },
     "execution_count": 25,
     "metadata": {},
     "output_type": "execute_result"
    }
   ],
   "source": [
    "movies['keywords']=movies['keywords'].apply(convert)\n",
    "movies.head(1)"
   ]
  },
  {
   "cell_type": "code",
   "execution_count": 26,
   "id": "96d5456f",
   "metadata": {},
   "outputs": [
    {
     "data": {
      "text/html": [
       "<div>\n",
       "<style scoped>\n",
       "    .dataframe tbody tr th:only-of-type {\n",
       "        vertical-align: middle;\n",
       "    }\n",
       "\n",
       "    .dataframe tbody tr th {\n",
       "        vertical-align: top;\n",
       "    }\n",
       "\n",
       "    .dataframe thead th {\n",
       "        text-align: right;\n",
       "    }\n",
       "</style>\n",
       "<table border=\"1\" class=\"dataframe\">\n",
       "  <thead>\n",
       "    <tr style=\"text-align: right;\">\n",
       "      <th></th>\n",
       "      <th>movie_id</th>\n",
       "      <th>title</th>\n",
       "      <th>overview</th>\n",
       "      <th>genres</th>\n",
       "      <th>keywords</th>\n",
       "      <th>cast</th>\n",
       "      <th>crew</th>\n",
       "    </tr>\n",
       "  </thead>\n",
       "  <tbody>\n",
       "    <tr>\n",
       "      <th>0</th>\n",
       "      <td>19995</td>\n",
       "      <td>Avatar</td>\n",
       "      <td>In the 22nd century, a paraplegic Marine is di...</td>\n",
       "      <td>[Action, Adventure, Fantasy, Science Fiction]</td>\n",
       "      <td>[culture clash, future, space war, space colon...</td>\n",
       "      <td>[Sam Worthington, Zoe Saldana, Sigourney Weave...</td>\n",
       "      <td>[{\"credit_id\": \"52fe48009251416c750aca23\", \"de...</td>\n",
       "    </tr>\n",
       "  </tbody>\n",
       "</table>\n",
       "</div>"
      ],
      "text/plain": [
       "  movie_id   title                                           overview  \\\n",
       "0    19995  Avatar  In the 22nd century, a paraplegic Marine is di...   \n",
       "\n",
       "                                          genres  \\\n",
       "0  [Action, Adventure, Fantasy, Science Fiction]   \n",
       "\n",
       "                                            keywords  \\\n",
       "0  [culture clash, future, space war, space colon...   \n",
       "\n",
       "                                                cast  \\\n",
       "0  [Sam Worthington, Zoe Saldana, Sigourney Weave...   \n",
       "\n",
       "                                                crew  \n",
       "0  [{\"credit_id\": \"52fe48009251416c750aca23\", \"de...  "
      ]
     },
     "execution_count": 26,
     "metadata": {},
     "output_type": "execute_result"
    }
   ],
   "source": [
    "movies['cast']=movies['cast'].apply(convert)\n",
    "movies.head(1)"
   ]
  },
  {
   "cell_type": "code",
   "execution_count": 27,
   "id": "07765cbf",
   "metadata": {},
   "outputs": [
    {
     "data": {
      "text/plain": [
       "['Sam Worthington',\n",
       " 'Zoe Saldana',\n",
       " 'Sigourney Weaver',\n",
       " 'Stephen Lang',\n",
       " 'Michelle Rodriguez',\n",
       " 'Giovanni Ribisi',\n",
       " 'Joel David Moore',\n",
       " 'CCH Pounder',\n",
       " 'Wes Studi',\n",
       " 'Laz Alonso',\n",
       " 'Dileep Rao',\n",
       " 'Matt Gerald',\n",
       " 'Sean Anthony Moran',\n",
       " 'Jason Whyte',\n",
       " 'Scott Lawrence',\n",
       " 'Kelly Kilgour',\n",
       " 'James Patrick Pitt',\n",
       " 'Sean Patrick Murphy',\n",
       " 'Peter Dillon',\n",
       " 'Kevin Dorman',\n",
       " 'Kelson Henderson',\n",
       " 'David Van Horn',\n",
       " 'Jacob Tomuri',\n",
       " 'Michael Blain-Rozgay',\n",
       " 'Jon Curry',\n",
       " 'Luke Hawker',\n",
       " 'Woody Schultz',\n",
       " 'Peter Mensah',\n",
       " 'Sonia Yee',\n",
       " 'Jahnel Curfman',\n",
       " 'Ilram Choi',\n",
       " 'Kyla Warren',\n",
       " 'Lisa Roumain',\n",
       " 'Debra Wilson',\n",
       " 'Chris Mala',\n",
       " 'Taylor Kibby',\n",
       " 'Jodie Landau',\n",
       " 'Julie Lamm',\n",
       " 'Cullen B. Madden',\n",
       " 'Joseph Brady Madden',\n",
       " 'Frankie Torres',\n",
       " 'Austin Wilson',\n",
       " 'Sara Wilson',\n",
       " 'Tamica Washington-Miller',\n",
       " 'Lucy Briant',\n",
       " 'Nathan Meister',\n",
       " 'Gerry Blair',\n",
       " 'Matthew Chamberlain',\n",
       " 'Paul Yates',\n",
       " 'Wray Wilson',\n",
       " 'James Gaylyn',\n",
       " 'Melvin Leno Clark III',\n",
       " 'Carvon Futrell',\n",
       " 'Brandon Jelkes',\n",
       " 'Micah Moch',\n",
       " 'Hanniyah Muhammad',\n",
       " 'Christopher Nolen',\n",
       " 'Christa Oliver',\n",
       " 'April Marie Thomas',\n",
       " 'Bravita A. Threatt',\n",
       " 'Colin Bleasdale',\n",
       " 'Mike Bodnar',\n",
       " 'Matt Clayton',\n",
       " 'Nicole Dionne',\n",
       " 'Jamie Harrison',\n",
       " 'Allan Henry',\n",
       " 'Anthony Ingruber',\n",
       " 'Ashley Jeffery',\n",
       " 'Dean Knowsley',\n",
       " 'Joseph Mika-Hunt',\n",
       " 'Terry Notary',\n",
       " 'Kai Pantano',\n",
       " 'Logan Pithyou',\n",
       " 'Stuart Pollock',\n",
       " 'Raja',\n",
       " 'Gareth Ruck',\n",
       " 'Rhian Sheehan',\n",
       " 'T. J. Storm',\n",
       " 'Jodie Taylor',\n",
       " 'Alicia Vela-Bailey',\n",
       " 'Richard Whiteside',\n",
       " 'Nikie Zambo',\n",
       " 'Julene Renee']"
      ]
     },
     "execution_count": 27,
     "metadata": {},
     "output_type": "execute_result"
    }
   ],
   "source": [
    "movies.cast.values[0]"
   ]
  },
  {
   "cell_type": "code",
   "execution_count": 28,
   "id": "d54f7752",
   "metadata": {},
   "outputs": [
    {
     "data": {
      "text/plain": [
       "['Johnny Depp',\n",
       " 'Orlando Bloom',\n",
       " 'Keira Knightley',\n",
       " 'Stellan Skarsgård',\n",
       " 'Chow Yun-fat',\n",
       " 'Bill Nighy',\n",
       " 'Geoffrey Rush',\n",
       " 'Jack Davenport',\n",
       " 'Kevin McNally',\n",
       " 'Tom Hollander',\n",
       " 'Naomie Harris',\n",
       " 'Jonathan Pryce',\n",
       " 'Keith Richards',\n",
       " 'Lee Arenberg',\n",
       " 'Mackenzie Crook',\n",
       " 'Greg Ellis',\n",
       " 'David Bailie',\n",
       " 'Martin Klebba',\n",
       " 'David Schofield',\n",
       " 'Lauren Maher',\n",
       " 'Vanessa Branch',\n",
       " 'Angus Barnett',\n",
       " 'Giles New',\n",
       " 'Reggie Lee',\n",
       " 'Dominic Scott Kay',\n",
       " 'Takayo Fischer',\n",
       " 'David Meunier',\n",
       " 'Ho-Kwan Tse',\n",
       " 'Andy Beckwith',\n",
       " 'Peter Donald Badalamenti II',\n",
       " 'Christopher S. Capp',\n",
       " 'Keith Richards',\n",
       " 'Hakeem Kae-Kazim',\n",
       " 'Ghassan Massoud']"
      ]
     },
     "execution_count": 28,
     "metadata": {},
     "output_type": "execute_result"
    }
   ],
   "source": [
    "movies.cast.values[1]"
   ]
  },
  {
   "cell_type": "code",
   "execution_count": 29,
   "id": "18a1d228",
   "metadata": {},
   "outputs": [],
   "source": [
    "#so v nly want top 3 actor names and not all, so lets run a loop"
   ]
  },
  {
   "cell_type": "code",
   "execution_count": 30,
   "id": "d35ae3df",
   "metadata": {},
   "outputs": [],
   "source": [
    "def convert2(text):\n",
    "    L=[]\n",
    "    counter=0\n",
    "    for i in ast.literal_eval(text):\n",
    "        if counter<3:\n",
    "            L.append(i['name'])\n",
    "        counter+=1\n",
    "    return L\n",
    "        \n",
    "    "
   ]
  },
  {
   "cell_type": "code",
   "execution_count": 31,
   "id": "5d2d9014",
   "metadata": {},
   "outputs": [],
   "source": [
    "movies['cast']=movies['cast'].apply(lambda x:x[0:3])"
   ]
  },
  {
   "cell_type": "code",
   "execution_count": 32,
   "id": "80b239cc",
   "metadata": {},
   "outputs": [
    {
     "data": {
      "text/plain": [
       "['Sam Worthington', 'Zoe Saldana', 'Sigourney Weaver']"
      ]
     },
     "execution_count": 32,
     "metadata": {},
     "output_type": "execute_result"
    }
   ],
   "source": [
    "movies.cast.values[0]"
   ]
  },
  {
   "cell_type": "code",
   "execution_count": 33,
   "id": "9abf872f",
   "metadata": {},
   "outputs": [
    {
     "data": {
      "text/html": [
       "<div>\n",
       "<style scoped>\n",
       "    .dataframe tbody tr th:only-of-type {\n",
       "        vertical-align: middle;\n",
       "    }\n",
       "\n",
       "    .dataframe tbody tr th {\n",
       "        vertical-align: top;\n",
       "    }\n",
       "\n",
       "    .dataframe thead th {\n",
       "        text-align: right;\n",
       "    }\n",
       "</style>\n",
       "<table border=\"1\" class=\"dataframe\">\n",
       "  <thead>\n",
       "    <tr style=\"text-align: right;\">\n",
       "      <th></th>\n",
       "      <th>movie_id</th>\n",
       "      <th>title</th>\n",
       "      <th>overview</th>\n",
       "      <th>genres</th>\n",
       "      <th>keywords</th>\n",
       "      <th>cast</th>\n",
       "      <th>crew</th>\n",
       "    </tr>\n",
       "  </thead>\n",
       "  <tbody>\n",
       "    <tr>\n",
       "      <th>0</th>\n",
       "      <td>19995</td>\n",
       "      <td>Avatar</td>\n",
       "      <td>In the 22nd century, a paraplegic Marine is di...</td>\n",
       "      <td>[Action, Adventure, Fantasy, Science Fiction]</td>\n",
       "      <td>[culture clash, future, space war, space colon...</td>\n",
       "      <td>[Sam Worthington, Zoe Saldana, Sigourney Weaver]</td>\n",
       "      <td>[{\"credit_id\": \"52fe48009251416c750aca23\", \"de...</td>\n",
       "    </tr>\n",
       "  </tbody>\n",
       "</table>\n",
       "</div>"
      ],
      "text/plain": [
       "  movie_id   title                                           overview  \\\n",
       "0    19995  Avatar  In the 22nd century, a paraplegic Marine is di...   \n",
       "\n",
       "                                          genres  \\\n",
       "0  [Action, Adventure, Fantasy, Science Fiction]   \n",
       "\n",
       "                                            keywords  \\\n",
       "0  [culture clash, future, space war, space colon...   \n",
       "\n",
       "                                               cast  \\\n",
       "0  [Sam Worthington, Zoe Saldana, Sigourney Weaver]   \n",
       "\n",
       "                                                crew  \n",
       "0  [{\"credit_id\": \"52fe48009251416c750aca23\", \"de...  "
      ]
     },
     "execution_count": 33,
     "metadata": {},
     "output_type": "execute_result"
    }
   ],
   "source": [
    "movies.head(1)"
   ]
  },
  {
   "cell_type": "code",
   "execution_count": 34,
   "id": "5cc78409",
   "metadata": {},
   "outputs": [
    {
     "data": {
      "text/plain": [
       "'[{\"credit_id\": \"52fe48009251416c750aca23\", \"department\": \"Editing\", \"gender\": 0, \"id\": 1721, \"job\": \"Editor\", \"name\": \"Stephen E. Rivkin\"}, {\"credit_id\": \"539c47ecc3a36810e3001f87\", \"department\": \"Art\", \"gender\": 2, \"id\": 496, \"job\": \"Production Design\", \"name\": \"Rick Carter\"}, {\"credit_id\": \"54491c89c3a3680fb4001cf7\", \"department\": \"Sound\", \"gender\": 0, \"id\": 900, \"job\": \"Sound Designer\", \"name\": \"Christopher Boyes\"}, {\"credit_id\": \"54491cb70e0a267480001bd0\", \"department\": \"Sound\", \"gender\": 0, \"id\": 900, \"job\": \"Supervising Sound Editor\", \"name\": \"Christopher Boyes\"}, {\"credit_id\": \"539c4a4cc3a36810c9002101\", \"department\": \"Production\", \"gender\": 1, \"id\": 1262, \"job\": \"Casting\", \"name\": \"Mali Finn\"}, {\"credit_id\": \"5544ee3b925141499f0008fc\", \"department\": \"Sound\", \"gender\": 2, \"id\": 1729, \"job\": \"Original Music Composer\", \"name\": \"James Horner\"}, {\"credit_id\": \"52fe48009251416c750ac9c3\", \"department\": \"Directing\", \"gender\": 2, \"id\": 2710, \"job\": \"Director\", \"name\": \"James Cameron\"}, {\"credit_id\": \"52fe48009251416c750ac9d9\", \"department\": \"Writing\", \"gender\": 2, \"id\": 2710, \"job\": \"Writer\", \"name\": \"James Cameron\"}, {\"credit_id\": \"52fe48009251416c750aca17\", \"department\": \"Editing\", \"gender\": 2, \"id\": 2710, \"job\": \"Editor\", \"name\": \"James Cameron\"}, {\"credit_id\": \"52fe48009251416c750aca29\", \"department\": \"Production\", \"gender\": 2, \"id\": 2710, \"job\": \"Producer\", \"name\": \"James Cameron\"}, {\"credit_id\": \"52fe48009251416c750aca3f\", \"department\": \"Writing\", \"gender\": 2, \"id\": 2710, \"job\": \"Screenplay\", \"name\": \"James Cameron\"}, {\"credit_id\": \"539c4987c3a36810ba0021a4\", \"department\": \"Art\", \"gender\": 2, \"id\": 7236, \"job\": \"Art Direction\", \"name\": \"Andrew Menzies\"}, {\"credit_id\": \"549598c3c3a3686ae9004383\", \"department\": \"Visual Effects\", \"gender\": 0, \"id\": 6690, \"job\": \"Visual Effects Producer\", \"name\": \"Jill Brooks\"}, {\"credit_id\": \"52fe48009251416c750aca4b\", \"department\": \"Production\", \"gender\": 1, \"id\": 6347, \"job\": \"Casting\", \"name\": \"Margery Simkin\"}, {\"credit_id\": \"570b6f419251417da70032fe\", \"department\": \"Art\", \"gender\": 2, \"id\": 6878, \"job\": \"Supervising Art Director\", \"name\": \"Kevin Ishioka\"}, {\"credit_id\": \"5495a0fac3a3686ae9004468\", \"department\": \"Sound\", \"gender\": 0, \"id\": 6883, \"job\": \"Music Editor\", \"name\": \"Dick Bernstein\"}, {\"credit_id\": \"54959706c3a3686af3003e81\", \"department\": \"Sound\", \"gender\": 0, \"id\": 8159, \"job\": \"Sound Effects Editor\", \"name\": \"Shannon Mills\"}, {\"credit_id\": \"54491d58c3a3680fb1001ccb\", \"department\": \"Sound\", \"gender\": 0, \"id\": 8160, \"job\": \"Foley\", \"name\": \"Dennie Thorpe\"}, {\"credit_id\": \"54491d6cc3a3680fa5001b2c\", \"department\": \"Sound\", \"gender\": 0, \"id\": 8163, \"job\": \"Foley\", \"name\": \"Jana Vance\"}, {\"credit_id\": \"52fe48009251416c750aca57\", \"department\": \"Costume & Make-Up\", \"gender\": 1, \"id\": 8527, \"job\": \"Costume Design\", \"name\": \"Deborah Lynn Scott\"}, {\"credit_id\": \"52fe48009251416c750aca2f\", \"department\": \"Production\", \"gender\": 2, \"id\": 8529, \"job\": \"Producer\", \"name\": \"Jon Landau\"}, {\"credit_id\": \"539c4937c3a36810ba002194\", \"department\": \"Art\", \"gender\": 0, \"id\": 9618, \"job\": \"Art Direction\", \"name\": \"Sean Haworth\"}, {\"credit_id\": \"539c49b6c3a36810c10020e6\", \"department\": \"Art\", \"gender\": 1, \"id\": 12653, \"job\": \"Set Decoration\", \"name\": \"Kim Sinclair\"}, {\"credit_id\": \"570b6f2f9251413a0e00020d\", \"department\": \"Art\", \"gender\": 1, \"id\": 12653, \"job\": \"Supervising Art Director\", \"name\": \"Kim Sinclair\"}, {\"credit_id\": \"54491a6c0e0a26748c001b19\", \"department\": \"Art\", \"gender\": 2, \"id\": 14350, \"job\": \"Set Designer\", \"name\": \"Richard F. Mays\"}, {\"credit_id\": \"56928cf4c3a3684cff0025c4\", \"department\": \"Production\", \"gender\": 1, \"id\": 20294, \"job\": \"Executive Producer\", \"name\": \"Laeta Kalogridis\"}, {\"credit_id\": \"52fe48009251416c750aca51\", \"department\": \"Costume & Make-Up\", \"gender\": 0, \"id\": 17675, \"job\": \"Costume Design\", \"name\": \"Mayes C. Rubeo\"}, {\"credit_id\": \"52fe48009251416c750aca11\", \"department\": \"Camera\", \"gender\": 2, \"id\": 18265, \"job\": \"Director of Photography\", \"name\": \"Mauro Fiore\"}, {\"credit_id\": \"5449194d0e0a26748f001b39\", \"department\": \"Art\", \"gender\": 0, \"id\": 42281, \"job\": \"Set Designer\", \"name\": \"Scott Herbertson\"}, {\"credit_id\": \"52fe48009251416c750aca05\", \"department\": \"Crew\", \"gender\": 0, \"id\": 42288, \"job\": \"Stunts\", \"name\": \"Woody Schultz\"}, {\"credit_id\": \"5592aefb92514152de0010f5\", \"department\": \"Costume & Make-Up\", \"gender\": 0, \"id\": 29067, \"job\": \"Makeup Artist\", \"name\": \"Linda DeVetta\"}, {\"credit_id\": \"5592afa492514152de00112c\", \"department\": \"Costume & Make-Up\", \"gender\": 0, \"id\": 29067, \"job\": \"Hairstylist\", \"name\": \"Linda DeVetta\"}, {\"credit_id\": \"54959ed592514130fc002e5d\", \"department\": \"Camera\", \"gender\": 2, \"id\": 33302, \"job\": \"Camera Operator\", \"name\": \"Richard Bluck\"}, {\"credit_id\": \"539c4891c3a36810ba002147\", \"department\": \"Art\", \"gender\": 2, \"id\": 33303, \"job\": \"Art Direction\", \"name\": \"Simon Bright\"}, {\"credit_id\": \"54959c069251417a81001f3a\", \"department\": \"Visual Effects\", \"gender\": 0, \"id\": 113145, \"job\": \"Visual Effects Supervisor\", \"name\": \"Richard Martin\"}, {\"credit_id\": \"54959a0dc3a3680ff5002c8d\", \"department\": \"Crew\", \"gender\": 2, \"id\": 58188, \"job\": \"Visual Effects Editor\", \"name\": \"Steve R. Moore\"}, {\"credit_id\": \"52fe48009251416c750aca1d\", \"department\": \"Editing\", \"gender\": 2, \"id\": 58871, \"job\": \"Editor\", \"name\": \"John Refoua\"}, {\"credit_id\": \"54491a4dc3a3680fc30018ca\", \"department\": \"Art\", \"gender\": 0, \"id\": 92359, \"job\": \"Set Designer\", \"name\": \"Karl J. Martin\"}, {\"credit_id\": \"52fe48009251416c750aca35\", \"department\": \"Camera\", \"gender\": 1, \"id\": 72201, \"job\": \"Director of Photography\", \"name\": \"Chiling Lin\"}, {\"credit_id\": \"52fe48009251416c750ac9ff\", \"department\": \"Crew\", \"gender\": 0, \"id\": 89714, \"job\": \"Stunts\", \"name\": \"Ilram Choi\"}, {\"credit_id\": \"54959c529251416e2b004394\", \"department\": \"Visual Effects\", \"gender\": 2, \"id\": 93214, \"job\": \"Visual Effects Supervisor\", \"name\": \"Steven Quale\"}, {\"credit_id\": \"54491edf0e0a267489001c37\", \"department\": \"Crew\", \"gender\": 1, \"id\": 122607, \"job\": \"Dialect Coach\", \"name\": \"Carla Meyer\"}, {\"credit_id\": \"539c485bc3a368653d001a3a\", \"department\": \"Art\", \"gender\": 2, \"id\": 132585, \"job\": \"Art Direction\", \"name\": \"Nick Bassett\"}, {\"credit_id\": \"539c4903c3a368653d001a74\", \"department\": \"Art\", \"gender\": 0, \"id\": 132596, \"job\": \"Art Direction\", \"name\": \"Jill Cormack\"}, {\"credit_id\": \"539c4967c3a368653d001a94\", \"department\": \"Art\", \"gender\": 0, \"id\": 132604, \"job\": \"Art Direction\", \"name\": \"Andy McLaren\"}, {\"credit_id\": \"52fe48009251416c750aca45\", \"department\": \"Crew\", \"gender\": 0, \"id\": 236696, \"job\": \"Motion Capture Artist\", \"name\": \"Terry Notary\"}, {\"credit_id\": \"54959e02c3a3680fc60027d2\", \"department\": \"Crew\", \"gender\": 2, \"id\": 956198, \"job\": \"Stunt Coordinator\", \"name\": \"Garrett Warren\"}, {\"credit_id\": \"54959ca3c3a3686ae300438c\", \"department\": \"Visual Effects\", \"gender\": 2, \"id\": 957874, \"job\": \"Visual Effects Supervisor\", \"name\": \"Jonathan Rothbart\"}, {\"credit_id\": \"570b6f519251412c74001b2f\", \"department\": \"Art\", \"gender\": 0, \"id\": 957889, \"job\": \"Supervising Art Director\", \"name\": \"Stefan Dechant\"}, {\"credit_id\": \"570b6f62c3a3680b77007460\", \"department\": \"Art\", \"gender\": 2, \"id\": 959555, \"job\": \"Supervising Art Director\", \"name\": \"Todd Cherniawsky\"}, {\"credit_id\": \"539c4a3ac3a36810da0021cc\", \"department\": \"Production\", \"gender\": 0, \"id\": 1016177, \"job\": \"Casting\", \"name\": \"Miranda Rivers\"}, {\"credit_id\": \"539c482cc3a36810c1002062\", \"department\": \"Art\", \"gender\": 0, \"id\": 1032536, \"job\": \"Production Design\", \"name\": \"Robert Stromberg\"}, {\"credit_id\": \"539c4b65c3a36810c9002125\", \"department\": \"Costume & Make-Up\", \"gender\": 2, \"id\": 1071680, \"job\": \"Costume Design\", \"name\": \"John Harding\"}, {\"credit_id\": \"54959e6692514130fc002e4e\", \"department\": \"Camera\", \"gender\": 0, \"id\": 1177364, \"job\": \"Steadicam Operator\", \"name\": \"Roberto De Angelis\"}, {\"credit_id\": \"539c49f1c3a368653d001aac\", \"department\": \"Costume & Make-Up\", \"gender\": 2, \"id\": 1202850, \"job\": \"Makeup Department Head\", \"name\": \"Mike Smithson\"}, {\"credit_id\": \"5495999ec3a3686ae100460c\", \"department\": \"Visual Effects\", \"gender\": 0, \"id\": 1204668, \"job\": \"Visual Effects Producer\", \"name\": \"Alain Lalanne\"}, {\"credit_id\": \"54959cdfc3a3681153002729\", \"department\": \"Visual Effects\", \"gender\": 0, \"id\": 1206410, \"job\": \"Visual Effects Supervisor\", \"name\": \"Lucas Salton\"}, {\"credit_id\": \"549596239251417a81001eae\", \"department\": \"Crew\", \"gender\": 0, \"id\": 1234266, \"job\": \"Post Production Supervisor\", \"name\": \"Janace Tashjian\"}, {\"credit_id\": \"54959c859251416e1e003efe\", \"department\": \"Visual Effects\", \"gender\": 0, \"id\": 1271932, \"job\": \"Visual Effects Supervisor\", \"name\": \"Stephen Rosenbaum\"}, {\"credit_id\": \"5592af28c3a368775a00105f\", \"department\": \"Costume & Make-Up\", \"gender\": 0, \"id\": 1310064, \"job\": \"Makeup Artist\", \"name\": \"Frankie Karena\"}, {\"credit_id\": \"539c4adfc3a36810e300203b\", \"department\": \"Costume & Make-Up\", \"gender\": 1, \"id\": 1319844, \"job\": \"Costume Supervisor\", \"name\": \"Lisa Lovaas\"}, {\"credit_id\": \"54959b579251416e2b004371\", \"department\": \"Visual Effects\", \"gender\": 0, \"id\": 1327028, \"job\": \"Visual Effects Supervisor\", \"name\": \"Jonathan Fawkner\"}, {\"credit_id\": \"539c48a7c3a36810b5001fa7\", \"department\": \"Art\", \"gender\": 0, \"id\": 1330561, \"job\": \"Art Direction\", \"name\": \"Robert Bavin\"}, {\"credit_id\": \"539c4a71c3a36810da0021e0\", \"department\": \"Costume & Make-Up\", \"gender\": 0, \"id\": 1330567, \"job\": \"Costume Supervisor\", \"name\": \"Anthony Almaraz\"}, {\"credit_id\": \"539c4a8ac3a36810ba0021e4\", \"department\": \"Costume & Make-Up\", \"gender\": 0, \"id\": 1330570, \"job\": \"Costume Supervisor\", \"name\": \"Carolyn M. Fenton\"}, {\"credit_id\": \"539c4ab6c3a36810da0021f0\", \"department\": \"Costume & Make-Up\", \"gender\": 0, \"id\": 1330574, \"job\": \"Costume Supervisor\", \"name\": \"Beth Koenigsberg\"}, {\"credit_id\": \"54491ab70e0a267480001ba2\", \"department\": \"Art\", \"gender\": 0, \"id\": 1336191, \"job\": \"Set Designer\", \"name\": \"Sam Page\"}, {\"credit_id\": \"544919d9c3a3680fc30018bd\", \"department\": \"Art\", \"gender\": 0, \"id\": 1339441, \"job\": \"Set Designer\", \"name\": \"Tex Kadonaga\"}, {\"credit_id\": \"54491cf50e0a267483001b0c\", \"department\": \"Editing\", \"gender\": 0, \"id\": 1352422, \"job\": \"Dialogue Editor\", \"name\": \"Kim Foscato\"}, {\"credit_id\": \"544919f40e0a26748c001b09\", \"department\": \"Art\", \"gender\": 0, \"id\": 1352962, \"job\": \"Set Designer\", \"name\": \"Tammy S. Lee\"}, {\"credit_id\": \"5495a115c3a3680ff5002d71\", \"department\": \"Crew\", \"gender\": 0, \"id\": 1357070, \"job\": \"Transportation Coordinator\", \"name\": \"Denny Caira\"}, {\"credit_id\": \"5495a12f92514130fc002e94\", \"department\": \"Crew\", \"gender\": 0, \"id\": 1357071, \"job\": \"Transportation Coordinator\", \"name\": \"James Waitkus\"}, {\"credit_id\": \"5495976fc3a36811530026b0\", \"department\": \"Sound\", \"gender\": 0, \"id\": 1360103, \"job\": \"Supervising Sound Editor\", \"name\": \"Addison Teague\"}, {\"credit_id\": \"54491837c3a3680fb1001c5a\", \"department\": \"Art\", \"gender\": 2, \"id\": 1376887, \"job\": \"Set Designer\", \"name\": \"C. Scott Baker\"}, {\"credit_id\": \"54491878c3a3680fb4001c9d\", \"department\": \"Art\", \"gender\": 0, \"id\": 1376888, \"job\": \"Set Designer\", \"name\": \"Luke Caska\"}, {\"credit_id\": \"544918dac3a3680fa5001ae0\", \"department\": \"Art\", \"gender\": 0, \"id\": 1376889, \"job\": \"Set Designer\", \"name\": \"David Chow\"}, {\"credit_id\": \"544919110e0a267486001b68\", \"department\": \"Art\", \"gender\": 0, \"id\": 1376890, \"job\": \"Set Designer\", \"name\": \"Jonathan Dyer\"}, {\"credit_id\": \"54491967c3a3680faa001b5e\", \"department\": \"Art\", \"gender\": 0, \"id\": 1376891, \"job\": \"Set Designer\", \"name\": \"Joseph Hiura\"}, {\"credit_id\": \"54491997c3a3680fb1001c8a\", \"department\": \"Art\", \"gender\": 0, \"id\": 1376892, \"job\": \"Art Department Coordinator\", \"name\": \"Rebecca Jellie\"}, {\"credit_id\": \"544919ba0e0a26748f001b42\", \"department\": \"Art\", \"gender\": 0, \"id\": 1376893, \"job\": \"Set Designer\", \"name\": \"Robert Andrew Johnson\"}, {\"credit_id\": \"54491b1dc3a3680faa001b8c\", \"department\": \"Art\", \"gender\": 0, \"id\": 1376895, \"job\": \"Assistant Art Director\", \"name\": \"Mike Stassi\"}, {\"credit_id\": \"54491b79c3a3680fbb001826\", \"department\": \"Art\", \"gender\": 0, \"id\": 1376897, \"job\": \"Construction Coordinator\", \"name\": \"John Villarino\"}, {\"credit_id\": \"54491baec3a3680fb4001ce6\", \"department\": \"Art\", \"gender\": 2, \"id\": 1376898, \"job\": \"Assistant Art Director\", \"name\": \"Jeffrey Wisniewski\"}, {\"credit_id\": \"54491d2fc3a3680fb4001d07\", \"department\": \"Editing\", \"gender\": 0, \"id\": 1376899, \"job\": \"Dialogue Editor\", \"name\": \"Cheryl Nardi\"}, {\"credit_id\": \"54491d86c3a3680fa5001b2f\", \"department\": \"Editing\", \"gender\": 0, \"id\": 1376901, \"job\": \"Dialogue Editor\", \"name\": \"Marshall Winn\"}, {\"credit_id\": \"54491d9dc3a3680faa001bb0\", \"department\": \"Sound\", \"gender\": 0, \"id\": 1376902, \"job\": \"Supervising Sound Editor\", \"name\": \"Gwendolyn Yates Whittle\"}, {\"credit_id\": \"54491dc10e0a267486001bce\", \"department\": \"Sound\", \"gender\": 0, \"id\": 1376903, \"job\": \"Sound Re-Recording Mixer\", \"name\": \"William Stein\"}, {\"credit_id\": \"54491f500e0a26747c001c07\", \"department\": \"Crew\", \"gender\": 0, \"id\": 1376909, \"job\": \"Choreographer\", \"name\": \"Lula Washington\"}, {\"credit_id\": \"549599239251412c4e002a2e\", \"department\": \"Visual Effects\", \"gender\": 0, \"id\": 1391692, \"job\": \"Visual Effects Producer\", \"name\": \"Chris Del Conte\"}, {\"credit_id\": \"54959d54c3a36831b8001d9a\", \"department\": \"Visual Effects\", \"gender\": 2, \"id\": 1391695, \"job\": \"Visual Effects Supervisor\", \"name\": \"R. Christopher White\"}, {\"credit_id\": \"54959bdf9251412c4e002a66\", \"department\": \"Visual Effects\", \"gender\": 0, \"id\": 1394070, \"job\": \"Visual Effects Supervisor\", \"name\": \"Dan Lemmon\"}, {\"credit_id\": \"5495971d92514132ed002922\", \"department\": \"Sound\", \"gender\": 0, \"id\": 1394129, \"job\": \"Sound Effects Editor\", \"name\": \"Tim Nielsen\"}, {\"credit_id\": \"5592b25792514152cc0011aa\", \"department\": \"Crew\", \"gender\": 0, \"id\": 1394286, \"job\": \"CG Supervisor\", \"name\": \"Michael Mulholland\"}, {\"credit_id\": \"54959a329251416e2b004355\", \"department\": \"Crew\", \"gender\": 0, \"id\": 1394750, \"job\": \"Visual Effects Editor\", \"name\": \"Thomas Nittmann\"}, {\"credit_id\": \"54959d6dc3a3686ae9004401\", \"department\": \"Visual Effects\", \"gender\": 0, \"id\": 1394755, \"job\": \"Visual Effects Supervisor\", \"name\": \"Edson Williams\"}, {\"credit_id\": \"5495a08fc3a3686ae300441c\", \"department\": \"Editing\", \"gender\": 0, \"id\": 1394953, \"job\": \"Digital Intermediate\", \"name\": \"Christine Carr\"}, {\"credit_id\": \"55402d659251413d6d000249\", \"department\": \"Visual Effects\", \"gender\": 0, \"id\": 1395269, \"job\": \"Visual Effects Supervisor\", \"name\": \"John Bruno\"}, {\"credit_id\": \"54959e7b9251416e1e003f3e\", \"department\": \"Camera\", \"gender\": 0, \"id\": 1398970, \"job\": \"Steadicam Operator\", \"name\": \"David Emmerichs\"}, {\"credit_id\": \"54959734c3a3686ae10045e0\", \"department\": \"Sound\", \"gender\": 0, \"id\": 1400906, \"job\": \"Sound Effects Editor\", \"name\": \"Christopher Scarabosio\"}, {\"credit_id\": \"549595dd92514130fc002d79\", \"department\": \"Production\", \"gender\": 0, \"id\": 1401784, \"job\": \"Production Supervisor\", \"name\": \"Jennifer Teves\"}, {\"credit_id\": \"549596009251413af70028cc\", \"department\": \"Production\", \"gender\": 0, \"id\": 1401785, \"job\": \"Production Manager\", \"name\": \"Brigitte Yorke\"}, {\"credit_id\": \"549596e892514130fc002d99\", \"department\": \"Sound\", \"gender\": 0, \"id\": 1401786, \"job\": \"Sound Effects Editor\", \"name\": \"Ken Fischer\"}, {\"credit_id\": \"549598229251412c4e002a1c\", \"department\": \"Crew\", \"gender\": 0, \"id\": 1401787, \"job\": \"Special Effects Coordinator\", \"name\": \"Iain Hutton\"}, {\"credit_id\": \"549598349251416e2b00432b\", \"department\": \"Crew\", \"gender\": 0, \"id\": 1401788, \"job\": \"Special Effects Coordinator\", \"name\": \"Steve Ingram\"}, {\"credit_id\": \"54959905c3a3686ae3004324\", \"department\": \"Visual Effects\", \"gender\": 0, \"id\": 1401789, \"job\": \"Visual Effects Producer\", \"name\": \"Joyce Cox\"}, {\"credit_id\": \"5495994b92514132ed002951\", \"department\": \"Visual Effects\", \"gender\": 0, \"id\": 1401790, \"job\": \"Visual Effects Producer\", \"name\": \"Jenny Foster\"}, {\"credit_id\": \"549599cbc3a3686ae1004613\", \"department\": \"Crew\", \"gender\": 0, \"id\": 1401791, \"job\": \"Visual Effects Editor\", \"name\": \"Christopher Marino\"}, {\"credit_id\": \"549599f2c3a3686ae100461e\", \"department\": \"Crew\", \"gender\": 0, \"id\": 1401792, \"job\": \"Visual Effects Editor\", \"name\": \"Jim Milton\"}, {\"credit_id\": \"54959a51c3a3686af3003eb5\", \"department\": \"Visual Effects\", \"gender\": 0, \"id\": 1401793, \"job\": \"Visual Effects Producer\", \"name\": \"Cyndi Ochs\"}, {\"credit_id\": \"54959a7cc3a36811530026f4\", \"department\": \"Crew\", \"gender\": 0, \"id\": 1401794, \"job\": \"Visual Effects Editor\", \"name\": \"Lucas Putnam\"}, {\"credit_id\": \"54959b91c3a3680ff5002cb4\", \"department\": \"Visual Effects\", \"gender\": 0, \"id\": 1401795, \"job\": \"Visual Effects Supervisor\", \"name\": \"Anthony \\'Max\\' Ivins\"}, {\"credit_id\": \"54959bb69251412c4e002a5f\", \"department\": \"Visual Effects\", \"gender\": 0, \"id\": 1401796, \"job\": \"Visual Effects Supervisor\", \"name\": \"John Knoll\"}, {\"credit_id\": \"54959cbbc3a3686ae3004391\", \"department\": \"Visual Effects\", \"gender\": 2, \"id\": 1401799, \"job\": \"Visual Effects Supervisor\", \"name\": \"Eric Saindon\"}, {\"credit_id\": \"54959d06c3a3686ae90043f6\", \"department\": \"Visual Effects\", \"gender\": 0, \"id\": 1401800, \"job\": \"Visual Effects Supervisor\", \"name\": \"Wayne Stables\"}, {\"credit_id\": \"54959d259251416e1e003f11\", \"department\": \"Visual Effects\", \"gender\": 0, \"id\": 1401801, \"job\": \"Visual Effects Supervisor\", \"name\": \"David Stinnett\"}, {\"credit_id\": \"54959db49251413af7002975\", \"department\": \"Visual Effects\", \"gender\": 0, \"id\": 1401803, \"job\": \"Visual Effects Supervisor\", \"name\": \"Guy Williams\"}, {\"credit_id\": \"54959de4c3a3681153002750\", \"department\": \"Crew\", \"gender\": 0, \"id\": 1401804, \"job\": \"Stunt Coordinator\", \"name\": \"Stuart Thorp\"}, {\"credit_id\": \"54959ef2c3a3680fc60027f2\", \"department\": \"Lighting\", \"gender\": 0, \"id\": 1401805, \"job\": \"Best Boy Electric\", \"name\": \"Giles Coburn\"}, {\"credit_id\": \"54959f07c3a3680fc60027f9\", \"department\": \"Camera\", \"gender\": 2, \"id\": 1401806, \"job\": \"Still Photographer\", \"name\": \"Mark Fellman\"}, {\"credit_id\": \"54959f47c3a3681153002774\", \"department\": \"Lighting\", \"gender\": 0, \"id\": 1401807, \"job\": \"Lighting Technician\", \"name\": \"Scott Sprague\"}, {\"credit_id\": \"54959f8cc3a36831b8001df2\", \"department\": \"Visual Effects\", \"gender\": 0, \"id\": 1401808, \"job\": \"Animation Director\", \"name\": \"Jeremy Hollobon\"}, {\"credit_id\": \"54959fa0c3a36831b8001dfb\", \"department\": \"Visual Effects\", \"gender\": 0, \"id\": 1401809, \"job\": \"Animation Director\", \"name\": \"Orlando Meunier\"}, {\"credit_id\": \"54959fb6c3a3686af3003f54\", \"department\": \"Visual Effects\", \"gender\": 0, \"id\": 1401810, \"job\": \"Animation Director\", \"name\": \"Taisuke Tanimura\"}, {\"credit_id\": \"54959fd2c3a36831b8001e02\", \"department\": \"Costume & Make-Up\", \"gender\": 0, \"id\": 1401812, \"job\": \"Set Costumer\", \"name\": \"Lilia Mishel Acevedo\"}, {\"credit_id\": \"54959ff9c3a3686ae300440c\", \"department\": \"Costume & Make-Up\", \"gender\": 0, \"id\": 1401814, \"job\": \"Set Costumer\", \"name\": \"Alejandro M. Hernandez\"}, {\"credit_id\": \"5495a0ddc3a3686ae10046fe\", \"department\": \"Editing\", \"gender\": 0, \"id\": 1401815, \"job\": \"Digital Intermediate\", \"name\": \"Marvin Hall\"}, {\"credit_id\": \"5495a1f7c3a3686ae3004443\", \"department\": \"Production\", \"gender\": 0, \"id\": 1401816, \"job\": \"Publicist\", \"name\": \"Judy Alley\"}, {\"credit_id\": \"5592b29fc3a36869d100002f\", \"department\": \"Crew\", \"gender\": 0, \"id\": 1418381, \"job\": \"CG Supervisor\", \"name\": \"Mike Perry\"}, {\"credit_id\": \"5592b23a9251415df8001081\", \"department\": \"Crew\", \"gender\": 0, \"id\": 1426854, \"job\": \"CG Supervisor\", \"name\": \"Andrew Morley\"}, {\"credit_id\": \"55491e1192514104c40002d8\", \"department\": \"Art\", \"gender\": 0, \"id\": 1438901, \"job\": \"Conceptual Design\", \"name\": \"Seth Engstrom\"}, {\"credit_id\": \"5525d5809251417276002b06\", \"department\": \"Crew\", \"gender\": 0, \"id\": 1447362, \"job\": \"Visual Effects Art Director\", \"name\": \"Eric Oliver\"}, {\"credit_id\": \"554427ca925141586500312a\", \"department\": \"Visual Effects\", \"gender\": 0, \"id\": 1447503, \"job\": \"Modeling\", \"name\": \"Matsune Suzuki\"}, {\"credit_id\": \"551906889251415aab001c88\", \"department\": \"Art\", \"gender\": 0, \"id\": 1447524, \"job\": \"Art Department Manager\", \"name\": \"Paul Tobin\"}, {\"credit_id\": \"5592af8492514152cc0010de\", \"department\": \"Costume & Make-Up\", \"gender\": 0, \"id\": 1452643, \"job\": \"Hairstylist\", \"name\": \"Roxane Griffin\"}, {\"credit_id\": \"553d3c109251415852001318\", \"department\": \"Lighting\", \"gender\": 0, \"id\": 1453938, \"job\": \"Lighting Artist\", \"name\": \"Arun Ram-Mohan\"}, {\"credit_id\": \"5592af4692514152d5001355\", \"department\": \"Costume & Make-Up\", \"gender\": 0, \"id\": 1457305, \"job\": \"Makeup Artist\", \"name\": \"Georgia Lockhart-Adams\"}, {\"credit_id\": \"5592b2eac3a36877470012a5\", \"department\": \"Crew\", \"gender\": 0, \"id\": 1466035, \"job\": \"CG Supervisor\", \"name\": \"Thrain Shadbolt\"}, {\"credit_id\": \"5592b032c3a36877450015f1\", \"department\": \"Crew\", \"gender\": 0, \"id\": 1483220, \"job\": \"CG Supervisor\", \"name\": \"Brad Alexander\"}, {\"credit_id\": \"5592b05592514152d80012f6\", \"department\": \"Crew\", \"gender\": 0, \"id\": 1483221, \"job\": \"CG Supervisor\", \"name\": \"Shadi Almassizadeh\"}, {\"credit_id\": \"5592b090c3a36877570010b5\", \"department\": \"Crew\", \"gender\": 0, \"id\": 1483222, \"job\": \"CG Supervisor\", \"name\": \"Simon Clutterbuck\"}, {\"credit_id\": \"5592b0dbc3a368774b00112c\", \"department\": \"Crew\", \"gender\": 0, \"id\": 1483223, \"job\": \"CG Supervisor\", \"name\": \"Graeme Demmocks\"}, {\"credit_id\": \"5592b0fe92514152db0010c1\", \"department\": \"Crew\", \"gender\": 0, \"id\": 1483224, \"job\": \"CG Supervisor\", \"name\": \"Adrian Fernandes\"}, {\"credit_id\": \"5592b11f9251415df8001059\", \"department\": \"Crew\", \"gender\": 0, \"id\": 1483225, \"job\": \"CG Supervisor\", \"name\": \"Mitch Gates\"}, {\"credit_id\": \"5592b15dc3a3687745001645\", \"department\": \"Crew\", \"gender\": 0, \"id\": 1483226, \"job\": \"CG Supervisor\", \"name\": \"Jerry Kung\"}, {\"credit_id\": \"5592b18e925141645a0004ae\", \"department\": \"Crew\", \"gender\": 0, \"id\": 1483227, \"job\": \"CG Supervisor\", \"name\": \"Andy Lomas\"}, {\"credit_id\": \"5592b1bfc3a368775d0010e7\", \"department\": \"Crew\", \"gender\": 0, \"id\": 1483228, \"job\": \"CG Supervisor\", \"name\": \"Sebastian Marino\"}, {\"credit_id\": \"5592b2049251415df8001078\", \"department\": \"Crew\", \"gender\": 0, \"id\": 1483229, \"job\": \"CG Supervisor\", \"name\": \"Matthias Menz\"}, {\"credit_id\": \"5592b27b92514152d800136a\", \"department\": \"Crew\", \"gender\": 0, \"id\": 1483230, \"job\": \"CG Supervisor\", \"name\": \"Sergei Nevshupov\"}, {\"credit_id\": \"5592b2c3c3a36869e800003c\", \"department\": \"Crew\", \"gender\": 0, \"id\": 1483231, \"job\": \"CG Supervisor\", \"name\": \"Philippe Rebours\"}, {\"credit_id\": \"5592b317c3a36877470012af\", \"department\": \"Crew\", \"gender\": 0, \"id\": 1483232, \"job\": \"CG Supervisor\", \"name\": \"Michael Takarangi\"}, {\"credit_id\": \"5592b345c3a36877470012bb\", \"department\": \"Crew\", \"gender\": 0, \"id\": 1483233, \"job\": \"CG Supervisor\", \"name\": \"David Weitzberg\"}, {\"credit_id\": \"5592b37cc3a368775100113b\", \"department\": \"Crew\", \"gender\": 0, \"id\": 1483234, \"job\": \"CG Supervisor\", \"name\": \"Ben White\"}, {\"credit_id\": \"573c8e2f9251413f5d000094\", \"department\": \"Crew\", \"gender\": 1, \"id\": 1621932, \"job\": \"Stunts\", \"name\": \"Min Windle\"}]'"
      ]
     },
     "execution_count": 34,
     "metadata": {},
     "output_type": "execute_result"
    }
   ],
   "source": [
    "movies.crew[0]"
   ]
  },
  {
   "cell_type": "code",
   "execution_count": 35,
   "id": "7ebd1cf5",
   "metadata": {},
   "outputs": [],
   "source": [
    "import ast\n",
    "def fetch_director(text):\n",
    "    L = []\n",
    "    for i in ast.literal_eval(text):\n",
    "        if i['job'] == 'Director':\n",
    "            L.append(i['name'])\n",
    "    return L "
   ]
  },
  {
   "cell_type": "code",
   "execution_count": 36,
   "id": "4ce8c49b",
   "metadata": {},
   "outputs": [
    {
     "ename": "SyntaxError",
     "evalue": "EOL while scanning string literal (<unknown>, line 1)",
     "output_type": "error",
     "traceback": [
      "Traceback \u001b[1;36m(most recent call last)\u001b[0m:\n",
      "  File \u001b[0;32m\"C:\\Users\\admin\\anaconda3\\lib\\site-packages\\IPython\\core\\interactiveshell.py\"\u001b[0m, line \u001b[0;32m3437\u001b[0m, in \u001b[0;35mrun_code\u001b[0m\n    exec(code_obj, self.user_global_ns, self.user_ns)\n",
      "  File \u001b[0;32m\"<ipython-input-36-1e2791f73e30>\"\u001b[0m, line \u001b[0;32m1\u001b[0m, in \u001b[0;35m<module>\u001b[0m\n    movies['crew'] = movies['crew'].apply(fetch_director)\n",
      "  File \u001b[0;32m\"C:\\Users\\admin\\anaconda3\\lib\\site-packages\\pandas\\core\\series.py\"\u001b[0m, line \u001b[0;32m4138\u001b[0m, in \u001b[0;35mapply\u001b[0m\n    mapped = lib.map_infer(values, f, convert=convert_dtype)\n",
      "  File \u001b[0;32m\"pandas\\_libs\\lib.pyx\"\u001b[0m, line \u001b[0;32m2467\u001b[0m, in \u001b[0;35mpandas._libs.lib.map_infer\u001b[0m\n",
      "  File \u001b[0;32m\"<ipython-input-35-50333310f039>\"\u001b[0m, line \u001b[0;32m4\u001b[0m, in \u001b[0;35mfetch_director\u001b[0m\n    for i in ast.literal_eval(text):\n",
      "  File \u001b[0;32m\"C:\\Users\\admin\\anaconda3\\lib\\ast.py\"\u001b[0m, line \u001b[0;32m59\u001b[0m, in \u001b[0;35mliteral_eval\u001b[0m\n    node_or_string = parse(node_or_string, mode='eval')\n",
      "\u001b[1;36m  File \u001b[1;32m\"C:\\Users\\admin\\anaconda3\\lib\\ast.py\"\u001b[1;36m, line \u001b[1;32m47\u001b[1;36m, in \u001b[1;35mparse\u001b[1;36m\u001b[0m\n\u001b[1;33m    return compile(source, filename, mode, flags,\u001b[0m\n",
      "\u001b[1;36m  File \u001b[1;32m\"<unknown>\"\u001b[1;36m, line \u001b[1;32m1\u001b[0m\n\u001b[1;33m    [{\"credit_id\": \"52fe4bf7c3a368484e1a0683\", \"department\": \"Production\", \"gender\": 2, \"id\": 488, \"job\": \"Executive Producer\", \"name\": \"Steven Spielberg\"}, {\"credit_id\": \"554918b892514104ca000244\", \"department\": \"Production\", \"gender\": 0, \"id\": 561, \"job\": \"Casting\", \"name\": \"John Papsidera\"}, {\"credit_id\": \"52fe4bf7c3a368484e1a0689\", \"department\": \"Production\", \"gender\": 2, \"id\": 664, \"job\": \"Producer\", \"name\": \"Frank Marshall\"}, {\"credit_id\": \"554918a492514104ba0002bc\", \"department\": \"Camera\", \"gender\": 2, \"id\": 892, \"job\": \"Director of Photography\", \"name\": \"John Schwartzman\"}, {\"credit_id\": \"554924a9c3a36841b600032b\", \"department\": \"Sound\", \"gender\": 0, \"id\": 900, \"job\": \"Sound Re-Recording Mixer\", \"name\": \"Christopher Boyes\"}, {\"credit_id\": \"5549258092514104c700038b\", \"department\": \"Sound\", \"gender\": 2, \"id\": 2216, \"job\": \"Sound Designer\", \"name\": \"Gary Rydstrom\"}, {\"credit_id\": \"5549190292514104c4000279\", \"department\": \"Art\", \"gender\": 2, \"id\": 2529, \"job\": \"Set Decoration\", \"name\": \"Ronald R. Reiss\"}, {\"credit_id\": \"5549361392514104c700055b\", \"department\": \"Crew\", \"gender\": 2, \"id\": 4030, \"job\": \"Stunts\", \"name\": \"Martin Klebba\"}, {\"credit_id\": \"5549191292514104ca00024e\", \"department\": \"Costume & Make-Up\", \"gender\": 1, \"id\": 7238, \"job\": \"Costume Design\", \"name\": \"April Ferry\"}, {\"credit_id\": \"52fe4bf7c3a368484e1a066b\", \"department\": \"Writing\", \"gender\": 2, \"id\": 4782, \"job\": \"Characters\", \"name\": \"Michael Crichton\"}, {\"credit_id\": \"554918c292514104c4000270\", \"department\": \"Art\", \"gender\": 2, \"id\": 4953, \"job\": \"Production Design\", \"name\": \"Ed Verreaux\"}, {\"credit_id\": \"554918ecc3a36841bf00025f\", \"department\": \"Art\", \"gender\": 1, \"id\": 6922, \"job\": \"Art Direction\", \"name\": \"Christa Munro\"}, {\"credit_id\": \"554923fcc3a36841b90003e9\", \"department\": \"Art\", \"gender\": 1, \"id\": 20586, \"job\": \"Set Designer\", \"name\": \"Stella Vaccaro\"}, {\"credit_id\": \"588fdb3992514133a5000120\", \"department\": \"Visual Effects\", \"gender\": 2, \"id\": 7727, \"job\": \"Visual Effects\", \"name\": \"Phil Tippett\"}, {\"credit_id\": \"55492593c3a36841b9000427\", \"department\": \"Sound\", \"gender\": 0, \"id\": 8160, \"job\": \"Foley\", \"name\": \"Dennie Thorpe\"}, {\"credit_id\": \"554925b1c3a36841b2000383\", \"department\": \"Sound\", \"gender\": 0, \"id\": 8163, \"job\": \"Foley\", \"name\": \"Jana Vance\"}, {\"credit_id\": \"55492566c3a36841b9000420\", \"department\": \"Sound\", \"gender\": 0, \"id\": 8166, \"job\": \"Sound Re-Recording Mixer\", \"name\": \"Juan Peralta\"}, {\"credit_id\": \"5549191b92514104b80002a6\", \"department\": \"Costume & Make-Up\", \"gender\": 2, \"id\": 8411, \"job\": \"Costume Design\", \"name\": \"Daniel Orlandi\"}, {\"credit_id\": \"554927ed92514104b800041a\", \"department\": \"Visual Effects\", \"gender\": 0, \"id\": 11300, \"job\": \"Visual Effects Supervisor\", \"name\": \"Tim Alexander\"}, {\"credit_id\": \"5624b14792514171c5011376\", \"department\": \"Crew\", \"gender\": 0, \"id\": 12575, \"job\": \"Second Unit Cinematographer\", \"name\": \"Patrick Loungway\"}, {\"credit_id\": \"566718dbc3a36808e60019ac\", \"department\": \"Crew\", \"gender\": 0, \"id\": 13031, \"job\": \"Stunt Coordinator\", \"name\": \"Rocky Capella\"}, {\"credit_id\": \"55492c4392514104ca0003d0\", \"department\": \"Visual Effects\", \"gender\": 0, \"id\": 13115, \"job\": \"Modeling\", \"name\": \"Sean House\"}, {\"credit_id\": \"554918afc3a36841b2000264\", \"department\": \"Editing\", \"gender\": 2, \"id\": 11001, \"job\": \"Editor\", \"name\": \"Kevin Stitt\"}, {\"credit_id\": \"55f0c173c3a368230300004d\", \"department\": \"Sound\", \"gender\": 2, \"id\": 15347, \"job\": \"Original Music Composer\", \"name\": \"Michael Giacchino\"}, {\"credit_id\": \"5624b1069251413ded002912\", \"department\": \"Camera\", \"gender\": 0, \"id\": 42032, \"job\": \"Camera Operator\", \"name\": \"Ian Fox\"}, {\"credit_id\": \"554918d292514104c700026d\", \"department\": \"Art\", \"gender\": 0, \"id\": 18867, \"job\": \"Art Direction\", \"name\": \"Page Buckner\"}, {\"credit_id\": \"5549184ec3a36841b200025c\", \"department\": \"Production\", \"gender\": 2, \"id\": 25600, \"job\": \"Producer\", \"name\": \"Patrick Crowley\"}, {\"credit_id\": \"554919d4c3a36841af00029a\", \"department\": \"Costume & Make-Up\", \"gender\": 0, \"id\": 32282, \"job\": \"Hair Setup\", \"name\": \"Mary L. Mastro\"}, {\"credit_id\": \"5549188792514104ba0002b8\", \"department\": \"Production\", \"gender\": 0, \"id\": 54211, \"job\": \"Executive Producer\", \"name\": \"Thomas Tull\"}, {\"credit_id\": \"55492b9392514104c0000411\", \"department\": \"Crew\", \"gender\": 0, \"id\": 57065, \"job\": \"Compositors\", \"name\": \"Melissa Goddard\"}, {\"credit_id\": \"55495370c3a36841af000816\", \"department\": \"Crew\", \"gender\": 2, \"id\": 60261, \"job\": \"Thanks\", \"name\": \"Stan Winston\"}, {\"credit_id\": \"52fe4bf7c3a368484e1a0671\", \"department\": \"Writing\", \"gender\": 2, \"id\": 67802, \"job\": \"Screenplay\", \"name\": \"Rick Jaffa\"}, {\"credit_id\": \"5549182e92514104ba0002ae\", \"department\": \"Writing\", \"gender\": 2, \"id\": 67802, \"job\": \"Story\", \"name\": \"Rick Jaffa\"}, {\"credit_id\": \"52fe4bf7c3a368484e1a067d\", \"department\": \"Writing\", \"gender\": 1, \"id\": 67803, \"job\": \"Screenplay\", \"name\": \"Amanda Silver\"}, {\"credit_id\": \"55491837c3a36841bf00024e\", \"department\": \"Writing\", \"gender\": 1, \"id\": 67803, \"job\": \"Story\", \"name\": \"Amanda Silver\"}, {\"credit_id\": \"55493552c3a36841ab00051a\", \"department\": \"Crew\", \"gender\": 0, \"id\": 92491, \"job\": \"Stunts\", \"name\": \"Danny Downey\"}, {\"credit_id\": \"55493721c3a36841b200055c\", \"department\": \"Crew\", \"gender\": 2, \"id\": 92503, \"job\": \"Stunts\", \"name\": \"Felipe Savahge\"}, {\"credit_id\": \"5624b286c3a3680e19011261\", \"department\": \"Camera\", \"gender\": 0, \"id\": 71127, \"job\": \"Underwater Camera\", \"name\": \"Peter Zuccarini\"}, {\"credit_id\": \"554935e0c3a36841ab000528\", \"department\": \"Crew\", \"gender\": 0, \"id\": 78890, \"job\": \"Stunts\", \"name\": \"Keith Jardine\"}, {\"credit_id\": \"5665fc7cc3a368069f000c4f\", \"department\": \"Sound\", \"gender\": 2, \"id\": 75380, \"job\": \"Boom Operator\", \"name\": \"Robert Jackson\"}, {\"credit_id\": \"55494a8292514104c700071d\", \"department\": \"Lighting\", \"gender\": 2, \"id\": 79790, \"job\": \"Gaffer\", \"name\": \"Rafael E. S\\u00e1nchez\"}, {\"credit_id\": \"554934ebc3a36841b200053c\", \"department\": \"Crew\", \"gender\": 0, \"id\": 82350, \"job\": \"Stunts\", \"name\": \"David Castillo\"}, {\"credit_id\": \"5624b1c29251413ded002938\", \"department\": \"Camera\", \"gender\": 0, \"id\": 91123, \"job\": \"Helicopter Camera\", \"name\": \"Michael Kelem\"}, {\"credit_id\": \"554926be92514104ba000427\", \"department\": \"Crew\", \"gender\": 2, \"id\": 93258, \"job\": \"Special Effects\", \"name\": \"Michael Lantieri\"}, {\"credit_id\": \"586ccd5b925141087000618d\", \"department\": \"Writing\", \"gender\": 0, \"id\": 111893, \"job\": \"Storyboard\", \"name\": \"John Coven\"}, {\"credit_id\": \"554918e3c3a36841b90002a2\", \"department\": \"Art\", \"gender\": 1, \"id\": 137175, \"job\": \"Art Direction\", \"name\": \"Caty Maxey\"}, {\"credit_id\": \"554934a592514104ba000594\", \"department\": \"Crew\", \"gender\": 0, \"id\": 186922, \"job\": \"Stunts\", \"name\": \"Tim Bell\"}, {\"credit_id\": \"55491ca492514104ca000297\", \"department\": \"Crew\", \"gender\": 2, \"id\": 195078, \"job\": \"Prop Maker\", \"name\": \"Tom Curtis\"}, {\"credit_id\": \"554933af92514104c00004b0\", \"department\": \"Visual Effects\", \"gender\": 0, \"id\": 229860, \"job\": \"Animation\", \"name\": \"Cameron Widen\"}, {\"credit_id\": \"5549220fc3a36841b60002f8\", \"department\": \"Art\", \"gender\": 0, \"id\": 484529, \"job\": \"Art Department Coordinator\", \"name\": \"Mike Piccirillo\"}, {\"credit_id\": \"55493570c3a36841c10004f0\", \"department\": \"Crew\", \"gender\": 2, \"id\": 550473, \"job\": \"Stunts\", \"name\": \"Jeff Galpin\"}, {\"credit_id\": \"554939aec3a36841b900066c\", \"department\": \"Lighting\", \"gender\": 0, \"id\": 575694, \"job\": \"Electrician\", \"name\": \"John Gregory Edwards\"}, {\"credit_id\": \"55492079c3a36841c10002dd\", \"department\": \"Art\", \"gender\": 0, \"id\": 575765, \"job\": \"Set Designer\", \"name\": \"Kevin Loo\"}, {\"credit_id\": \"554952e692514104ca000735\", \"department\": \"Crew\", \"gender\": 0, \"id\": 575769, \"job\": \"Transportation Coordinator\", \"name\": \"Aaron Skalka\"}, {\"credit_id\": \"5549199c92514104b80002ad\", \"department\": \"Costume & Make-Up\", \"gender\": 0, \"id\": 578723, \"job\": \"Hairstylist\", \"name\": \"Sherri Hamilton\"}, {\"credit_id\": \"55f0c11d9251416711000045\", \"department\": \"Writing\", \"gender\": 2, \"id\": 930707, \"job\": \"Screenplay\", \"name\": \"Colin Trevorrow\"}, {\"credit_id\": \"52fe4bf7c3a368484e1a0695\", \"department\": \"Directing\", \"gender\": 2, \"id\": 930707, \"job\": \"Director\", \"name\": \"Colin Trevorrow\"}, {\"credit_id\": \"55491c0d92514104ca000286\", \"department\": \"Art\", \"gender\": 2, \"id\": 959555, \"job\": \"Set Designer\", \"name\": \"Todd Cherniawsky\"}, {\"credit_id\": \"5549182592514104cd000255\", \"department\": \"Writing\", \"gender\": 2, \"id\": 1020013, \"job\": \"Screenplay\", \"name\": \"Derek Connolly\"}, {\"credit_id\": \"55493524c3a36841af000567\", \"department\": \"Crew\", \"gender\": 0, \"id\": 1025667, \"job\": \"Stunts\", \"name\": \"Craig H. Davidson\"}, {\"credit_id\": \"5549490c92514104ca000662\", \"department\": \"Lighting\", \"gender\": 0, \"id\": 1045115, \"job\": \"Gaffer\", \"name\": \"Michael Maley\"}, {\"credit_id\": \"5549277ec3a36841af0003e9\", \"department\": \"Crew\", \"gender\": 2, \"id\": 1056155, \"job\": \"Special Effects\", \"name\": \"Cole Taylor\"}, {\"credit_id\": \"5549350ec3a36841bf000564\", \"department\": \"Crew\", \"gender\": 0, \"id\": 1089920, \"job\": \"Stunts\", \"name\": \"Tim Connolly\"}, {\"credit_id\": \"5624b3acc3a3680e1001121a\", \"department\": \"Costume & Make-Up\", \"gender\": 0, \"id\": 1095271, \"job\": \"Makeup Department Head\", \"name\": \"Vivian Baker\"}, {\"credit_id\": \"55493637c3a36841b9000606\", \"department\": \"Crew\", \"gender\": 0, \"id\": 1106629, \"job\": \"Stunts\", \"name\": \"Raymond Mamrak\"}, {\"credit_id\": \"55492f91c3a36841a900053d\", \"department\": \"Crew\", \"gender\": 0, \"id\": 1155551, \"job\": \"Visual Effects Editor\", \"name\": \"Kindra Marra\"}, {\"credit_id\": \"554935cb92514104ba0005af\", \"department\": \"Crew\", \"gender\": 0, \"id\": 1191027, \"job\": \"Stunts\", \"name\": \"Daniel Hern\\u00e1ndez\"}, {\"credit_id\": \"554918f692514104c4000275\", \"department\": \"Art\", \"gender\": 0, \"id\": 1195362, \"job\": \"Art Direction\", \"name\": \"David Scott\"}, {\"credit_id\": \"55494bb392514104ba000787\", \"department\": \"Lighting\", \"gender\": 0, \"id\": 1215298, \"job\": \"Lighting Technician\", \"name\": \"Vince Young\"}, {\"credit_id\": \"554926f692514104c70003bb\", \"department\": \"Crew\", \"gender\": 0, \"id\": 1224272, \"job\": \"Special Effects\", \"name\": \"John McLeod\"}, {\"credit_id\": \"55493756c3a36841b200055f\", \"department\": \"Crew\", \"gender\": 1, \"id\": 1235012, \"job\": \"Stunts\", \"name\": \"Taryn Terrell\"}, {\"credit_id\": \"55491a6192514104cd00027a\", \"department\": \"Production\", \"gender\": 2, \"id\": 1235227, \"job\": \"Production Supervisor\", \"name\": \"Scott Trimble\"}, {\"credit_id\": \"554935fb92514104be000590\", \"department\": \"Crew\", \"gender\": 0, \"id\": 1247272, \"job\": \"Stunts\", \"name\": \"Zero Kazama\"}, {\"credit_id\": \"554935b492514104ba0005ab\", \"department\": \"Crew\", \"gender\": 2, \"id\": 1275523, \"job\": \"Stunts\", \"name\": \"Charles Haugk\"}, {\"credit_id\": \"554936c1c3a36841af000588\", \"department\": \"Crew\", \"gender\": 0, \"id\": 1285241, \"job\": \"Stunts\", \"name\": \"Gary Price\"}, {\"credit_id\": \"55491973c3a36841bf00026f\", \"department\": \"Costume & Make-Up\", \"gender\": 0, \"id\": 1304298, \"job\": \"Makeup Artist\", \"name\": \"Melanie Deforrest\"}, {\"credit_id\": \"5549216e92514104c000031d\", \"department\": \"Art\", \"gender\": 0, \"id\": 1309482, \"job\": \"Art Direction\", \"name\": \"Mark 'Crash' McCreery\"}, {\"credit_id\": \"554926d6c3a36841af0003dc\", \"department\": \"Crew\", \"gender\": 0, \"id\": 1309482, \"job\": \"Special Effects\", \"name\": \"Mark 'Crash' McCreery\"}, {\"credit_id\": \"55494ddcc3a36841af0007af\", \"department\": \"Costume & Make-Up\", \"gender\": 0, \"id\": 1319157, \"job\": \"Set Costumer\", \"name\": \"Hannah Gates\"}, {\"credit_id\": \"55494dec92514104c00006c3\", \"department\": \"Costume & Make-Up\", \"gender\": 0, \"id\": 1320974, \"job\": \"Set Costumer\", \"name\": \"Ren Heeralal\"}, {\"credit_id\": \"55494e4a92514104ca0006d4\", \"department\": \"Costume & Make-Up\", \"gender\": 0, \"id\": 1328407, \"job\": \"Costume Supervisor\", \"name\": \"Elaine Ramires\"}, {\"credit_id\": \"55491a3492514104cd000273\", \"department\": \"Costume & Make-Up\", \"gender\": 0, \"id\": 1333900, \"job\": \"Makeup Artist\", \"name\": \"Michelle Vittone\"}, {\"credit_id\": \"55491c0392514104ca000284\", \"department\": \"Art\", \"gender\": 0, \"id\": 1339435, \"job\": \"Set Designer\", \"name\": \"Lorrie Campbell\"}, {\"credit_id\": \"55491876c3a36841bf000255\", \"department\": \"Production\", \"gender\": 0, \"id\": 1341268, \"job\": \"Associate Producer\", \"name\": \"Christopher Raimo\"}, {\"credit_id\": \"5549535992514104ca000739\", \"department\": \"Crew\", \"gender\": 0, \"id\": 1347762, \"job\": \"Thanks\", \"name\": \"James P. Schramm\"}, {\"credit_id\": \"5549204a92514104b8000342\", \"department\": \"Art\", \"gender\": 0, \"id\": 1352962, \"job\": \"Set Designer\", \"name\": \"Tammy S. Lee\"}, {\"credit_id\": \"5549240792514104ba0003d5\", \"department\": \"Art\", \"gender\": 0, \"id\": 1355530, \"job\": \"Sculptor\", \"name\": \"Cuitlahuac Morales Velazquez\"}, {\"credit_id\": \"5549355cc3a36841a90005e9\", \"department\": \"Crew\", \"gender\": 0, \"id\": 1367516, \"job\": \"Stunts\", \"name\": \"Timothy Eulich\"}, {\"credit_id\": \"55495305c3a36841c100078f\", \"department\": \"Crew\", \"gender\": 0, \"id\": 1367945, \"job\": \"Driver\", \"name\": \"Steve Smitherman\"}, {\"credit_id\": \"55492431c3a36841c100032e\", \"department\": \"Art\", \"gender\": 0, \"id\": 1368863, \"job\": \"Set Designer\", \"name\": \"Randall D. Wilkins\"}, {\"credit_id\": \"55491f6ec3a36841b2000301\", \"department\": \"Art\", \"gender\": 0, \"id\": 1370904, \"job\": \"Sculptor\", \"name\": \"Chris Hopkins\"}, {\"credit_id\": \"55491c3892514104ca00028a\", \"department\": \"Art\", \"gender\": 0, \"id\": 1376889, \"job\": \"Set Designer\", \"name\": \"David Chow\"}, {\"credit_id\": \"554925c7c3a36841af0003b8\", \"department\": \"Sound\", \"gender\": 0, \"id\": 1376902, \"job\": \"Supervising Sound Editor\", \"name\": \"Gwendolyn Yates Whittle\"}, {\"credit_id\": \"55491fd692514104c0000303\", \"department\": \"Costume & Make-Up\", \"gender\": 0, \"id\": 1386905, \"job\": \"Set Dressing Artist\", \"name\": \"Jenni Knight\"}, {\"credit_id\": \"55492f3a92514104cd00049a\", \"department\": \"Visual Effects\", \"gender\": 0, \"id\": 1386913, \"job\": \"Visual Effects Producer\", \"name\": \"Greg Maloney\"}, {\"credit_id\": \"55493676c3a36841af000582\", \"department\": \"Crew\", \"gender\": 0, \"id\": 1387252, \"job\": \"Stunt Coordinator\", \"name\": \"Chris O'Hara\"}, {\"credit_id\": \"55492589c3a36841af0003ab\", \"department\": \"Sound\", \"gender\": 0, \"id\": 1388864, \"job\": \"ADR & Dubbing\", \"name\": \"Brad Semenoff\"}, {\"credit_id\": \"5624da759251413ded003084\", \"department\": \"Editing\", \"gender\": 0, \"id\": 1388864, \"job\": \"Dialogue Editor\", \"name\": \"Brad Semenoff\"}, {\"credit_id\": \"55493172c3a36841c1000486\", \"department\": \"Visual Effects\", \"gender\": 0, \"id\": 1388872, \"job\": \"Visual Effects Supervisor\", \"name\": \"Katherine Rodtsbrooks\"}, {\"credit_id\": \"5624e71cc3a3680e10011be6\", \"department\": \"Sound\", \"gender\": 0, \"id\": 1389136, \"job\": \"Music Editor\", \"name\": \"Paul Apelgren\"}, {\"credit_id\": \"56814d0792514131df00e332\", \"department\": \"Art\", \"gender\": 0, \"id\": 1390516, \"job\": \"Sculptor\", \"name\": \"David James\"}, {\"credit_id\": \"5549243c92514104b80003b6\", \"department\": \"Art\", \"gender\": 0, \"id\": 1391123, \"job\": \"Greensman\", \"name\": \"Liloa Wong\"}, {\"credit_id\": \"5549216392514104cd00032b\", \"department\": \"Art\", \"gender\": 0, \"id\": 1392116, \"job\": \"Set Designer\", \"name\": \"Masako Masuda\"}, {\"credit_id\": \"554949d7c3a36841af000759\", \"department\": \"Lighting\", \"gender\": 0, \"id\": 1392612, \"job\": \"Electrician\", \"name\": \"Ahmad Powell\"}, {\"credit_id\": \"5549392e92514104be0005e3\", \"department\": \"Lighting\", \"gender\": 0, \"id\": 1392943, \"job\": \"Gaffer\", \"name\": \"Joshua Davis\"}, {\"credit_id\": \"554919b892514104be000289\", \"department\": \"Costume & Make-Up\", \"gender\": 0, \"id\": 1393581, \"job\": \"Makeup Artist\", \"name\": \"Jack Lazzaro\"}, {\"credit_id\": \"55494bc092514104c00006a2\", \"department\": \"Camera\", \"gender\": 0, \"id\": 1394724, \"job\": \"Still Photographer\", \"name\": \"Chuck Zlotnick\"}, {\"credit_id\": \"55491d4292514104c40002c7\", \"department\": \"Art\", \"gender\": 0, \"id\": 1395432, \"job\": \"Set Designer\", \"name\": \"Forest P. Fischer\"}, {\"credit_id\": \"55491b9492514104c70002b5\", \"department\": \"Art\", \"gender\": 0, \"id\": 1399290, \"job\": \"Set Designer\", \"name\": \"Ernie Avila\"}, {\"credit_id\": \"5549338292514104ba00057e\", \"department\": \"Visual Effects\", \"gender\": 0, \"id\": 1400403, \"job\": \"Visual Effects Producer\", \"name\": \"Shawn Walsh\"}, {\"credit_id\": \"5549218d92514104ca0002eb\", \"department\": \"Art\", \"gender\": 0, \"id\": 1400547, \"job\": \"Set Designer\", \"name\": \"Ron Mendell\"}, {\"credit_id\": \"5549203f92514104be000337\", \"department\": \"Art\", \"gender\": 0, \"id\": 1400555, \"job\": \"Set Designer\", \"name\": \"George Lee\"}, {\"credit_id\": \"5549233892514104be000399\", \"department\": \"Art\", \"gender\": 0, \"id\": 1400855, \"job\": \"Greensman\", \"name\": \"Alex Sessing\"}, {\"credit_id\": \"5624afac92514139800001bd\", \"department\": \"Camera\", \"gender\": 2, \"id\": 1401109, \"job\": \"Steadicam Operator\", \"name\": \"Chris Haarhoff\"}, {\"credit_id\": \"55494a5ec3a36841b6000671\", \"department\": \"Lighting\", \"gender\": 0, \"id\": 1401807, \"job\": \"Best Boy Electric\", \"name\": \"Scott Sprague\"}, {\"credit_id\": \"55491cc5c3a36841b20002d6\", \"department\": \"Art\", \"gender\": 0, \"id\": 1401884, \"job\": \"Sculptor\", \"name\": \"Yann Denoual\"}, {\"credit_id\": \"55492a55c3a36841c10003ca\", \"department\": \"Crew\", \"gender\": 0, \"id\": 1401893, \"job\": \"Visual Effects Editor\", \"name\": \"Lorelei David\"}, {\"credit_id\": \"5624b1e7c3a3680e1d012052\", \"department\": \"Camera\", \"gender\": 2, \"id\": 1403415, \"job\": \"Helicopter Camera\", \"name\": \"David B. Nowell\"}, {\"credit_id\": \"5549197dc3a36841b90002b5\", \"department\": \"Costume & Make-Up\", \"gender\": 0, \"id\": 1403425, \"job\": \"Hairstylist\", \"name\": \"Mahealani Diego\"}, {\"credit_id\": \"55491bd592514104c70002b9\", \"department\": \"Art\", \"gender\": 0, \"id\": 1403432, \"job\": \"Construction Coordinator\", \"name\": \"Robert A. Blackburn\"}, {\"credit_id\": \"5549198a92514104c4000284\", \"department\": \"Costume & Make-Up\", \"gender\": 0, \"id\": 1404190, \"job\": \"Makeup Artist\", \"name\": \"Karri Farris\"}, {\"credit_id\": \"554947eac3a36841af000715\", \"department\": \"Camera\", \"gender\": 0, \"id\": 1405389, \"job\": \"Director of Photography\", \"name\": \"Ronald Hersey\"}, {\"credit_id\": \"554924f192514104c700037c\", \"department\": \"Sound\", \"gender\": 0, \"id\": 1406872, \"job\": \"Foley\", \"name\": \"Nia Hansen\"}, {\"credit_id\": \"5549193c92514104c0000267\", \"department\": \"Costume & Make-Up\", \"gender\": 0, \"id\": 1407340, \"job\": \"Hairstylist\", \"name\": \"Melizah Anguiano\"}, {\"credit_id\": \"55494db2c3a36841b60006be\", \"department\": \"Costume & Make-Up\", \"gender\": 0, \"id\": 1407371, \"job\": \"Set Costumer\", \"name\": \"Frank Avanzo\"}, {\"credit_id\": \"55492690c3a36841b900044a\", \"department\": \"Visual Effects\", \"gender\": 0, \"id\": 1407702, \"job\": \"Modeling\", \"name\": \"Allan B. Holt\"}, {\"credit_id\": \"55491a13c3a36841a90002d5\", \"department\": \"Costume & Make-Up\", \"gender\": 0, \"id\": 1411166, \"job\": \"Hairstylist\", \"name\": \"Peter Tothpal\"}, {\"credit_id\": \"554924dd92514104c7000379\", \"department\": \"Sound\", \"gender\": 0, \"id\": 1412984, \"job\": \"Sound Effects Editor\", \"name\": \"Pascal Garneau\"}, {\"credit_id\": \"55493606c3a36841ab00052b\", \"department\": \"Crew\", \"gender\": 0, \"id\": 1413402, \"job\": \"Stunts\", \"name\": \"Patrick Kearns\"}, {\"credit_id\": \"554924e792514104b80003cd\", \"department\": \"Sound\", \"gender\": 0, \"id\": 1414178, \"job\": \"Sound Effects Editor\", \"name\": \"Scott Guitteau\"}, {\"credit_id\": \"55491cb9c3a36841a9000315\", \"department\": \"Crew\", \"gender\": 0, \"id\": 1414497, \"job\": \"Property Master\", \"name\": \"Guillaume DeLouche\"}, {\"credit_id\": \"554919e592514104b80002b1\", \"department\": \"Costume & Make-Up\", \"gender\": 0, \"id\": 1415334, \"job\": \"Makeup Artist\", \"name\": \"Paige Reeves\"}, {\"credit_id\": \"55492509c3a36841bf000379\", \"department\": \"Sound\", \"gender\": 0, \"id\": 1416386, \"job\": \"Sound Re-Recording Mixer\", \"name\": \"Pete Horner\"}, {\"credit_id\": \"554919efc3a36841b200028b\", \"department\": \"Costume & Make-Up\", \"gender\": 0, \"id\": 1418349, \"job\": \"Makeup Artist\", \"name\": \"LeDiedra Richard-Baldwin\"}, {\"credit_id\": \"55491a0a92514104cd00026f\", \"department\": \"Costume & Make-Up\", \"gender\": 0, \"id\": 1418350, \"job\": \"Makeup Artist\", \"name\": \"Emily Tatum\"}, {\"credit_id\": \"55492546c3a36841a900044c\", \"department\": \"Sound\", \"gender\": 0, \"id\": 1422411, \"job\": \"Sound Designer\", \"name\": \"Al Nelson\"}, {\"credit_id\": \"554919c292514104ba0002ce\", \"department\": \"Costume & Make-Up\", \"gender\": 0, \"id\": 1431553, \"job\": \"Makeup Artist\", \"name\": \"Courtney Lether\"}, {\"credit_id\": \"5549496fc3a36841b2000769\", \"department\": \"Lighting\", \"gender\": 0, \"id\": 1432024, \"job\": \"Electrician\", \"name\": \"Charlie McIntyre\"}, {\"credit_id\": \"554919f892514104be00028d\", \"department\": \"Costume & Make-Up\", \"gender\": 0, \"id\": 1434557, \"job\": \"Makeup Artist\", \"name\": \"Jami Ross\"}, {\"credit_id\": \"55492b87c3a36841b200040a\", \"department\": \"Visual Effects\", \"gender\": 0, \"id\": 1444958, \"job\": \"Visual Effects Producer\", \"name\": \"Justin Gladden\"}, {\"credit_id\": \"5549253ac3a36841b200037d\", \"department\": \"Editing\", \"gender\": 0, \"id\": 1445834, \"job\": \"Dialogue Editor\", \"name\": \"Stuart McCowan\"}, {\"credit_id\": \"5549201d92514104c700031f\", \"department\": \"Costume & Make-Up\", \"gender\": 0, \"id\": 1447938, \"job\": \"Set Dressing Artist\", \"name\": \"Kevin C. Lang\"}, {\"credit_id\": \"5549273492514104be000425\", \"department\": \"Crew\", \"gender\": 0, \"id\": 1453663, \"job\": \"Special Effects\", \"name\": \"Jacob Roanhaus\"}, {\"credit_id\": \"554936b8c3a36841bf000584\", \"department\": \"Crew\", \"gender\": 0, \"id\": 1453905, \"job\": \"Stunts\", \"name\": \"Kara Petersen\"}, {\"credit_id\": \"5549358f92514104ba0005a5\", \"department\": \"Crew\", \"gender\": 0, \"id\": 1455499, \"job\": \"Stunts\", \"name\": \"Regis Harrington\"}, {\"credit_id\": \"554684d49251413fc00042c1\", \"department\": \"Visual Effects\", \"gender\": 0, \"id\": 1455598, \"job\": \"Animation\", \"name\": \"Mike Dharney\"}, {\"credit_id\": \"55340997c3a3680bdc00053a\", \"department\": \"Crew\", \"gender\": 0, \"id\": 1456696, \"job\": \"Compositors\", \"name\": \"Brian N. Bentley\"}, {\"credit_id\": \"570f0b5a92514102bc0016e5\", \"department\": \"Editing\", \"gender\": 0, \"id\": 1457666, \"job\": \"Assistant Editor\", \"name\": \"Kris Cole\"}, {\"credit_id\": \"5549378e92514104c4000538\", \"department\": \"Crew\", \"gender\": 0, \"id\": 1457917, \"job\": \"Stunts\", \"name\": \"Nico Woulard\"}, {\"credit_id\": \"5549195fc3a36841a90002ba\", \"department\": \"Costume & Make-Up\", \"gender\": 0, \"id\": 1458084, \"job\": \"Makeup Artist\", \"name\": \"Chantal Boom'la\"}, {\"credit_id\": \"55491a01c3a36841a90002cd\", \"department\": \"Costume & Make-Up\", \"gender\": 0, \"id\": 1458086, \"job\": \"Makeup Artist\", \"name\": \"Laine Rykes\"}, {\"credit_id\": \"55494ab7c3a36841a90007d1\", \"department\": \"Lighting\", \"gender\": 0, \"id\": 1458141, \"job\": \"Rigging Gaffer\", \"name\": \"Don Tomich\"}, {\"credit_id\": \"55494bf692514104ca000694\", \"department\": \"Visual Effects\", \"gender\": 0, \"id\": 1459728, \"job\": \"Animation\", \"name\": \"Kyle Dunlevy\"}, {\"credit_id\": \"55494c6992514104ba000797\", \"department\": \"Visual Effects\", \"gender\": 0, \"id\": 1459736, \"job\": \"Animation\", \"name\": \"Travis Tohill\"}, {\"credit_id\": \"55494c1292514104b800076c\", \"department\": \"Visual Effects\", \"gender\": 0, \"id\": 1459744, \"job\": \"Animation\", \"name\": \"Cameron Folds\"}, {\"credit_id\": \"55494c2fc3a36841c10006f2\", \"department\": \"Visual Effects\", \"gender\": 0, \"id\": 1459748, \"job\": \"Animation\", \"name\": \"Peer Lemmers\"}, {\"credit_id\": \"55494c3cc3a36841b60006a2\", \"department\": \"Visual Effects\", \"gender\": 0, \"id\": 1459752, \"job\": \"Animation\", \"name\": \"Andrew Malesky\"}, {\"credit_id\": \"55494c9ac3a36841af000798\", \"department\": \"Visual Effects\", \"gender\": 0, \"id\": 1459764, \"job\": \"Animation\", \"name\": \"Luis Carlos Uribe\"}, {\"credit_id\": \"55494ca7c3a36841af00079b\", \"department\": \"Visual Effects\", \"gender\": 0, \"id\": 1459766, \"job\": \"Animation\", \"name\": \"Bob Wilson\"}, {\"credit_id\": \"5549288992514104c70003e6\", \"department\": \"Visual Effects\", \"gender\": 0, \"id\": 1459774, \"job\": \"Animation\", \"name\": \"Eric Bates\"}, {\"credit_id\": \"5548d2cb92514156090022e3\", \"department\": \"Visual Effects\", \"gender\": 0, \"id\": 1460608, \"job\": \"Animation\", \"name\": \"Emilio Ghorayeb\"}, {\"credit_id\": \"5624dfabc3a368686800b646\", \"department\": \"Lighting\", \"gender\": 0, \"id\": 1460624, \"job\": \"Lighting Supervisor\", \"name\": \"Celia Jepson\"}, {\"credit_id\": \"5549282bc3a36841b9000471\", \"department\": \"Crew\", \"gender\": 0, \"id\": 1460645, \"job\": \"Compositors\", \"name\": \"Dwight Angelito\"}, {\"credit_id\": \"554929d292514104ba000484\", \"department\": \"Crew\", \"gender\": 0, \"id\": 1460647, \"job\": \"Compositors\", \"name\": \"Darrell Claunch\"}, {\"credit_id\": \"554918dac3a36841c1000247\", \"department\": \"Art\", \"gender\": 0, \"id\": 1463269, \"job\": \"Art Direction\", \"name\": \"Nick Crocco\"}, {\"credit_id\": \"55491955c3a36841ab000264\", \"department\": \"Costume & Make-Up\", \"gender\": 0, \"id\": 1463270, \"job\": \"Hairstylist\", \"name\": \"Lawrnell Bell-Rattler\"}, {\"credit_id\": \"5549196992514104ca000256\", \"department\": \"Costume & Make-Up\", \"gender\": 0, \"id\": 1463271, \"job\": \"Makeup Artist\", \"name\": \"Natalie Cordray\"}, {\"credit_id\": \"554919a5c3a36841a90002be\", \"department\": \"Costume & Make-Up\", \"gender\": 0, \"id\": 1463272, \"job\": \"Hairstylist\", \"name\": \"Jennifer Hodges\"}, {\"credit_id\": \"554919aec3a36841bf000276\", \"department\": \"Costume & Make-Up\", \"gender\": 0, \"id\": 1463273, \"job\": \"Hairstylist\", \"name\": \"Stephanie Jennings\"}, {\"credit_id\": \"554919cbc3a36841b2000284\", \"department\": \"Costume & Make-Up\", \"gender\": 0, \"id\": 1463274, \"job\": \"Makeup Artist\", \"name\": \"Annabelle MacNeal\"}, {\"credit_id\": \"55491a1dc3a36841b200028f\", \"department\": \"Costume & Make-Up\", \"gender\": 0, \"id\": 1463275, \"job\": \"Hairstylist\", \"name\": \"Linda Traxler\"}, {\"credit_id\": \"55491a2892514104ca000264\", \"department\": \"Costume & Make-Up\", \"gender\": 0, \"id\": 1463276, \"job\": \"Makeup Artist\", \"name\": \"Vicki Vacca\"}, {\"credit_id\": \"55491a3e92514104c700028b\", \"department\": \"Costume & Make-Up\", \"gender\": 0, \"id\": 1463277, \"job\": \"Hairstylist\", \"name\": \"Crystal Wells\"}, {\"credit_id\": \"5624e64cc3a368240d00b293\", \"department\": \"Production\", \"gender\": 0, \"id\": 1463278, \"job\": \"Production Supervisor\", \"name\": \"Russell Allen\"}, {\"credit_id\": \"5624e320c3a368240d00b1c2\", \"department\": \"Production\", \"gender\": 0, \"id\": 1463279, \"job\": \"Executive In Charge Of Production\", \"name\": \"Ty Warren\"}, {\"credit_id\": \"55491a98c3a36841b600025d\", \"department\": \"Directing\", \"gender\": 0, \"id\": 1463281, \"job\": \"Assistant Director\", \"name\": \"Chris Castaldi\"}, {\"credit_id\": \"55491ad6c3a36841bf000294\", \"department\": \"Directing\", \"gender\": 0, \"id\": 1463286, \"job\": \"Assistant Director\", \"name\": \"Scott Koche\"}, {\"credit_id\": \"55491b02c3a36841b20002b5\", \"department\": \"Directing\", \"gender\": 0, \"id\": 1463289, \"job\": \"Assistant Director\", \"name\": \"Joyce McCarthy\"}, {\"credit_id\": \"55491b23c3a36841ab00028b\", \"department\": \"Directing\", \"gender\": 0, \"id\": 1463290, \"job\": \"Assistant Director\", \"name\": \"Nathan Parker\"}, {\"credit_id\": \"55491b3092514104ba0002ec\", \"department\": \"Directing\", \"gender\": 0, \"id\": 1463291, \"job\": \"Assistant Director\", \"name\": \"Stockton David Porter\"}, {\"credit_id\": \"55491b4ac3a36841bf00029f\", \"department\": \"Directing\", \"gender\": 0, \"id\": 1463292, \"job\": \"Assistant Director\", \"name\": \"Zack Smith\"}, {\"credit_id\": \"55491b5692514104cd000290\", \"department\": \"Directing\", \"gender\": 0, \"id\": 1463293, \"job\": \"Assistant Director\", \"name\": \"Spencer Taylor\"}, {\"credit_id\": \"55491b9f92514104be0002be\", \"department\": \"Art\", \"gender\": 0, \"id\": 1463296, \"job\": \"Assistant Art Director\", \"name\": \"Samantha Avila\"}, {\"credit_id\": \"55491bbfc3a36841bf0002b5\", \"department\": \"Crew\", \"gender\": 0, \"id\": 1463298, \"job\": \"Propmaker\", \"name\": \"Guy Belegaud\"}, {\"credit_id\": \"55491bcac3a36841b20002c6\", \"department\": \"Crew\", \"gender\": 0, \"id\": 1463299, \"job\": \"Propmaker\", \"name\": \"Mark Bialuski\"}, {\"credit_id\": \"55491bea92514104cd0002a7\", \"department\": \"Writing\", \"gender\": 0, \"id\": 1463300, \"job\": \"Storyboard\", \"name\": \"Timothy Burgard\"}, {\"credit_id\": \"55491bf8c3a36841b6000285\", \"department\": \"Art\", \"gender\": 0, \"id\": 1463301, \"job\": \"Greensman\", \"name\": \"Alvin S. Cabrinha Jr.\"}, {\"credit_id\": \"55491c6792514104ca000291\", \"department\": \"Writing\", \"gender\": 0, \"id\": 1463304, \"job\": \"Storyboard\", \"name\": \"Robert Consing\"}, {\"credit_id\": \"55491ccec3a36841a9000318\", \"department\": \"Crew\", \"gender\": 0, \"id\": 1463308, \"job\": \"Propmaker\", \"name\": \"Derek Devers\"}, {\"credit_id\": \"55491d5192514104b8000301\", \"department\": \"Visual Effects\", \"gender\": 0, \"id\": 1463310, \"job\": \"Modeling\", \"name\": \"Jeff Frost\"}, {\"credit_id\": \"55491d7b92514104c40002d0\", \"department\": \"Writing\", \"gender\": 0, \"id\": 1463313, \"job\": \"Storyboard\", \"name\": \"Collin Grant\"}, {\"credit_id\": \"55491f42c3a36841b9000351\", \"department\": \"Art\", \"gender\": 0, \"id\": 1463318, \"job\": \"Greensman\", \"name\": \"Mike Herriage\"}, {\"credit_id\": \"55491f62c3a36841b9000356\", \"department\": \"Art\", \"gender\": 0, \"id\": 1463320, \"job\": \"Art Department Assistant\", \"name\": \"Alana Hong\"}, {\"credit_id\": \"55491f89c3a36841c10002bd\", \"department\": \"Art\", \"gender\": 0, \"id\": 1463321, \"job\": \"Assistant Art Director\", \"name\": \"Ryan Shields Johnston\"}, {\"credit_id\": \"55491f95c3a36841ab0002f7\", \"department\": \"Costume & Make-Up\", \"gender\": 0, \"id\": 1463322, \"job\": \"Set Dressing Artist\", \"name\": \"Ty Jones Jr.\"}, {\"credit_id\": \"55491fb1c3a36841c10002cd\", \"department\": \"Writing\", \"gender\": 0, \"id\": 1463323, \"job\": \"Storyboard\", \"name\": \"Philip Keller\"}, {\"credit_id\": \"55492063c3a36841b900037b\", \"department\": \"Crew\", \"gender\": 0, \"id\": 1463329, \"job\": \"Propmaker\", \"name\": \"Paul Lindsey\"}, {\"credit_id\": \"5549208392514104c400030a\", \"department\": \"Art\", \"gender\": 0, \"id\": 1463331, \"job\": \"Set Decoration\", \"name\": \"Matt Lopac\"}, {\"credit_id\": \"55492083c3a36841b9000385\", \"department\": \"Art\", \"gender\": 0, \"id\": 1463330, \"job\": \"Set Decoration\", \"name\": \"Matt Lopac\"}, {\"credit_id\": \"554920bac3a36841a90003f4\", \"department\": \"Writing\", \"gender\": 0, \"id\": 1463332, \"job\": \"Storyboard\", \"name\": \"David Lowery\"}, {\"credit_id\": \"5549210892514104ba000367\", \"department\": \"Costume & Make-Up\", \"gender\": 0, \"id\": 1463334, \"job\": \"Set Dressing Artist\", \"name\": \"Vincent Luizzi\"}, {\"credit_id\": \"5549219a92514104ca0002ee\", \"department\": \"Art\", \"gender\": 0, \"id\": 1463338, \"job\": \"Greensman\", \"name\": \"William Nutt\"}, {\"credit_id\": \"554921a6c3a36841b60002e7\", \"department\": \"Art\", \"gender\": 0, \"id\": 1463339, \"job\": \"Greensman\", \"name\": \"William'Billy' Nutt\"}, {\"credit_id\": \"554921bac3a36841ab000334\", \"department\": \"Crew\", \"gender\": 0, \"id\": 1463340, \"job\": \"Prop Maker\", \"name\": \"Timothy Oakley\"}, {\"credit_id\": \"554921e992514104c4000323\", \"department\": \"Costume & Make-Up\", \"gender\": 0, \"id\": 1463343, \"job\": \"Set Dressing Artist\", \"name\": \"Paul Penley\"}, {\"credit_id\": \"5549223c92514104b8000371\", \"department\": \"Art\", \"gender\": 0, \"id\": 1463348, \"job\": \"Greensman\", \"name\": \"Christopher Ramirez\"}, {\"credit_id\": \"5549225292514104cd000344\", \"department\": \"Art\", \"gender\": 0, \"id\": 1463351, \"job\": \"Art Department Assistant\", \"name\": \"John Michael Riva Jr.\"}, {\"credit_id\": \"5549230e92514104cd000353\", \"department\": \"Art\", \"gender\": 0, \"id\": 1463360, \"job\": \"Art Department Coordinator\", \"name\": \"Joelle-Lyn Sarte\"}, {\"credit_id\": \"5549232fc3a36841c100031b\", \"department\": \"Art\", \"gender\": 0, \"id\": 1463362, \"job\": \"Greensman\", \"name\": \"Codie Scott\"}, {\"credit_id\": \"5549234b92514104ba0003c1\", \"department\": \"Crew\", \"gender\": 0, \"id\": 1463364, \"job\": \"Propmaker\", \"name\": \"Jeff Shewbert\"}, {\"credit_id\": \"5549237f92514104cd000367\", \"department\": \"Art\", \"gender\": 0, \"id\": 1463368, \"job\": \"Sculptor\", \"name\": \"Edward Skade\"}, {\"credit_id\": \"5549238892514104c000034c\", \"department\": \"Costume & Make-Up\", \"gender\": 0, \"id\": 1463369, \"job\": \"Set Dressing Artist\", \"name\": \"Meagan Skerchock\"}, {\"credit_id\": \"5549239592514104c4000350\", \"department\": \"Art\", \"gender\": 0, \"id\": 1463370, \"job\": \"Greensman\", \"name\": \"Spencer Smith\"}, {\"credit_id\": \"5549239ec3a36841af000376\", \"department\": \"Art\", \"gender\": 0, \"id\": 1463371, \"job\": \"Art Department Assistant\", \"name\": \"Karen Sori\"}, {\"credit_id\": \"554923aac3a36841bf000354\", \"department\": \"Art\", \"gender\": 0, \"id\": 1463372, \"job\": \"Set Designer\", \"name\": \"David Soukup\"}, {\"credit_id\": \"554923b492514104c4000358\", \"department\": \"Crew\", \"gender\": 0, \"id\": 1463373, \"job\": \"Propmaker\", \"name\": \"Christopher Stanback\"}, {\"credit_id\": \"554923bfc3a36841ab000356\", \"department\": \"Costume & Make-Up\", \"gender\": 0, \"id\": 1463374, \"job\": \"Set Dressing Artist\", \"name\": \"Sam Sternthall\"}, {\"credit_id\": \"554923cac3a36841b90003e3\", \"department\": \"Writing\", \"gender\": 0, \"id\": 1463375, \"job\": \"Storyboard\", \"name\": \"Dan Sweetman\"}, {\"credit_id\": \"554923d492514104cd000370\", \"department\": \"Art\", \"gender\": 0, \"id\": 1463376, \"job\": \"Greensman\", \"name\": \"Darrell Tachibana\"}, {\"credit_id\": \"554923de92514104c700035a\", \"department\": \"Costume & Make-Up\", \"gender\": 0, \"id\": 1463377, \"job\": \"Set Dressing Artist\", \"name\": \"John Tedlie\"}, {\"credit_id\": \"554923e892514104c7000362\", \"department\": \"Art\", \"gender\": 0, \"id\": 1463378, \"job\": \"Sculptor\", \"name\": \"Bruno Troadec\"}, {\"credit_id\": \"554923f292514104c7000368\", \"department\": \"Writing\", \"gender\": 0, \"id\": 1463379, \"job\": \"Storyboard\", \"name\": \"Amy Lynn Umezu\"}, {\"credit_id\": \"5549241192514104c0000357\", \"department\": \"Art\", \"gender\": 0, \"id\": 1463380, \"job\": \"Set Designer\", \"name\": \"Trinh Vu\"}, {\"credit_id\": \"5549242692514104ba0003db\", \"department\": \"Crew\", \"gender\": 0, \"id\": 1463381, \"job\": \"Propmaker\", \"name\": \"Kevin Whatley\"}, {\"credit_id\": \"55492449c3a36841b2000363\", \"department\": \"Costume &\u001b[0m\n\u001b[1;37m                                                                                                                                                                                                                                                                                                                                                                                                                                                                                                                                                                                                                                                                                                                                                                                                                                                                                                                                                                                                                                                                                                                                                                                                                                                                                                                                                                                                                                                                                                                                                                                                                                                                                                                                                                                                                                                                                                                                                                                                                                                                                                                                                                                                                                                                                                                                                                                                                                                                                                                                                                                                                                                                                                                                                                                                                                                                                                                                                                                                                                                                                                                                                                                                                                                                                                                                                                                                                                                                                                                                                                                                                                                                                                                                                                                                                                                                                                                                                                                                                                                                                                                                                                                                                                                                                                                                                                                                                                                                                                                                                                                                                                                                                                                                                                                                                                                                                                                                                                                                                                                                                                                                                                                                                                                                                                                                                                                                                                                                                                                                                                                                                                                                                                                                                                                                                                                                                                                                                                                                                                                                                                                                                                                                                                                                                                                                                                                                                                                                                                                                                                                                                                                                                                                                                                                                                                                                                                                                                                                                                                                                                                                                                                                                                                                                                                                                                                                                                                                                                                                                                                                                                                                                                                                                                                                                                                                                                                                                                                                                                                                                                                                                                                                                                                                                                                                                                                                                                                                                                                                                                                                                                                                                                                                                                                                                                                                                                                                                                                                                                                                                                                                                                                                                                                                                                                                                                                                                                                                                                                                                                                                                                                                                                                                                                                                                                                                                                                                                                                                                                                                                                                                                                                                                                                                                                                                                                                                                                                                                                                                                                                                                                                                                                                                                                                                                                                                                                                                                                                                                                                                                                                                                                                                                                                                                                                                                                                                                                                                                                                                                                                                                                                                                                                                                                                                                                                                                                                                                                                                                                                                                                                                                                                                                                                                                                                                                                                                                                                                                                                                                                                                                                                                                                                                                                                                                                                                                                                                                                                                                                                                                                                                                                                                                                                                                                                                                                                                                                                                                                                                                                                                                                                                                                                                                                                                                                                                                                                                                                                                                                                                                                                                                                                                                                                                                                                                                                                                                                                                                                                                                                                                                                                                                                                                                                                                                                                                                                                                                                                                                                                                                                                                                                                                                                                                                                                                                                                                                                                                                                                                                                                                                                                                                                                                                                                                                                                                                                                                                                                                                                                                                                                                                                                                                                                                                                                                                                                                                                                                                                                                                                                                                                                                                                                                                                                                                                                                                                                                                                                                                                                                                                                                                                                                                                                                                                                                                                                                                                                                                                                                                                                                                                                                                                                                                                                                                                                                                                                                                                                                                                                                                                                                                                                                                                                                                                                                                                                                                                                                                                                                                                                                                                                                                                                                                                                                                                                                                                                                                                                                                                                                                                                                                                                                                                                                                                                                                                                                                                                                                                                                                                                                                                                                                                                                                                                                                                                                                                                                                                                                                                                                                                                                                                                                                                                                                                                                                                                                                                                                                                                                                                                                                                                                                                                                                                                                                                                                                                                                                                                                                                                                                                                                                                                                                                                                                                                                                                                                                                                                                                                                                                                                                                                                                                                                                                                                                                                                                                                                                                                                                                                                                                                                                                                                                                                                                                                                                                                                                                                                                                                                                                                                                                                                                                                                                                                                                                                                                                                                                                                                                                                                                                                                                                                                                                                                                                                                                                                                                                                                                                                                                                                                                                                                                                                                                                                                                                                                                                                                                                                                                                                                                                                                                                                                                                                                                                                                                                                                                                                                                                                                                                                                                                                                                                                                                                                                                                                                                                                                                                                                                                                                                                                                                                                                                                                                                                                                                                                                                                                                                                                                                                                                                                                                                                                                                                                                                                                                                                                                                                                                                                                                                                                                                                                                                                                                                                                                                                                                                                                                                                                                                                                                                                                                                                                                                                                                                                                                                                                                                                                                                                                                                                                                                                                                                                                                                                                                                                                                                                                                                                                                                                                                                                                                                                                                                                                                                                                                                                                                                                                                                                                                                                                                                                                                                                                                                                                                                                                                                                                                                                                                                                                                                                                                                                                                                                                                                                                                                                                                                                                                                                                                                                                                                                                                                                                                                                                                                                                                                                                                                                                                                                                                                                                                                                                                                                                                                                                                                                                                                                                                                                                                                                                                                                                                                                                                                                                                                                                                                                                                                                                                                                                                                                                                                                                                                                                                                                                                                                                                                                                                                                                                                                                                                                                                                                                                                                                                                                                                                                                                                                                                                                                                                                                                                                                                                                                                                                                                                                                                                                                                                                                                                                                                                                                                                                                                                                                                                                                                                                                                                                                                                                                                                                                                                                                                                                                                                                                                                                                                                                                                                                                                                                                                                                                                                                                                                                                                                                                                                                                                                                                                                                                                                                                                                                                                                                                                                                                                                                                                                                                                                                                                                                                                          ^\u001b[0m\n\u001b[1;31mSyntaxError\u001b[0m\u001b[1;31m:\u001b[0m EOL while scanning string literal\n"
     ]
    }
   ],
   "source": [
    "movies['crew'] = movies['crew'].apply(fetch_director)"
   ]
  },
  {
   "cell_type": "code",
   "execution_count": 37,
   "id": "2a7ffd32",
   "metadata": {},
   "outputs": [],
   "source": [
    "#unable too solve error,so lets drop 'crew' column fr now nd go ahead "
   ]
  },
  {
   "cell_type": "code",
   "execution_count": 38,
   "id": "272338f0",
   "metadata": {},
   "outputs": [],
   "source": [
    "movies.drop(columns='crew',inplace=True)"
   ]
  },
  {
   "cell_type": "code",
   "execution_count": 39,
   "id": "ed27606c",
   "metadata": {},
   "outputs": [],
   "source": [
    "def collapse(L):\n",
    "    L1=[]\n",
    "    for i in L:\n",
    "        L1.append(i.replace(\" \",\"\"))\n",
    "    return L1\n",
    "    "
   ]
  },
  {
   "cell_type": "code",
   "execution_count": 40,
   "id": "dc7f4e2e",
   "metadata": {},
   "outputs": [],
   "source": [
    "movies['cast'] = movies['cast'].apply(collapse)\n",
    "#movies['crew'] = movies['crew'].apply(collapse)\n",
    "movies['genres'] = movies['genres'].apply(collapse)\n",
    "movies['keywords'] = movies['keywords'].apply(collapse)"
   ]
  },
  {
   "cell_type": "code",
   "execution_count": 41,
   "id": "0c9e2759",
   "metadata": {},
   "outputs": [
    {
     "data": {
      "text/html": [
       "<div>\n",
       "<style scoped>\n",
       "    .dataframe tbody tr th:only-of-type {\n",
       "        vertical-align: middle;\n",
       "    }\n",
       "\n",
       "    .dataframe tbody tr th {\n",
       "        vertical-align: top;\n",
       "    }\n",
       "\n",
       "    .dataframe thead th {\n",
       "        text-align: right;\n",
       "    }\n",
       "</style>\n",
       "<table border=\"1\" class=\"dataframe\">\n",
       "  <thead>\n",
       "    <tr style=\"text-align: right;\">\n",
       "      <th></th>\n",
       "      <th>movie_id</th>\n",
       "      <th>title</th>\n",
       "      <th>overview</th>\n",
       "      <th>genres</th>\n",
       "      <th>keywords</th>\n",
       "      <th>cast</th>\n",
       "    </tr>\n",
       "  </thead>\n",
       "  <tbody>\n",
       "    <tr>\n",
       "      <th>0</th>\n",
       "      <td>19995</td>\n",
       "      <td>Avatar</td>\n",
       "      <td>In the 22nd century, a paraplegic Marine is di...</td>\n",
       "      <td>[Action, Adventure, Fantasy, ScienceFiction]</td>\n",
       "      <td>[cultureclash, future, spacewar, spacecolony, ...</td>\n",
       "      <td>[SamWorthington, ZoeSaldana, SigourneyWeaver]</td>\n",
       "    </tr>\n",
       "  </tbody>\n",
       "</table>\n",
       "</div>"
      ],
      "text/plain": [
       "  movie_id   title                                           overview  \\\n",
       "0    19995  Avatar  In the 22nd century, a paraplegic Marine is di...   \n",
       "\n",
       "                                         genres  \\\n",
       "0  [Action, Adventure, Fantasy, ScienceFiction]   \n",
       "\n",
       "                                            keywords  \\\n",
       "0  [cultureclash, future, spacewar, spacecolony, ...   \n",
       "\n",
       "                                            cast  \n",
       "0  [SamWorthington, ZoeSaldana, SigourneyWeaver]  "
      ]
     },
     "execution_count": 41,
     "metadata": {},
     "output_type": "execute_result"
    }
   ],
   "source": [
    "movies.head(1)"
   ]
  },
  {
   "cell_type": "code",
   "execution_count": 42,
   "id": "ee38dda4",
   "metadata": {},
   "outputs": [
    {
     "ename": "TypeError",
     "evalue": "can only concatenate str (not \"list\") to str",
     "output_type": "error",
     "traceback": [
      "\u001b[1;31m---------------------------------------------------------------------------\u001b[0m",
      "\u001b[1;31mTypeError\u001b[0m                                 Traceback (most recent call last)",
      "\u001b[1;32m~\\anaconda3\\lib\\site-packages\\pandas\\core\\ops\\array_ops.py\u001b[0m in \u001b[0;36m_na_arithmetic_op\u001b[1;34m(left, right, op, is_cmp)\u001b[0m\n\u001b[0;32m    141\u001b[0m     \u001b[1;32mtry\u001b[0m\u001b[1;33m:\u001b[0m\u001b[1;33m\u001b[0m\u001b[1;33m\u001b[0m\u001b[0m\n\u001b[1;32m--> 142\u001b[1;33m         \u001b[0mresult\u001b[0m \u001b[1;33m=\u001b[0m \u001b[0mexpressions\u001b[0m\u001b[1;33m.\u001b[0m\u001b[0mevaluate\u001b[0m\u001b[1;33m(\u001b[0m\u001b[0mop\u001b[0m\u001b[1;33m,\u001b[0m \u001b[0mleft\u001b[0m\u001b[1;33m,\u001b[0m \u001b[0mright\u001b[0m\u001b[1;33m)\u001b[0m\u001b[1;33m\u001b[0m\u001b[1;33m\u001b[0m\u001b[0m\n\u001b[0m\u001b[0;32m    143\u001b[0m     \u001b[1;32mexcept\u001b[0m \u001b[0mTypeError\u001b[0m\u001b[1;33m:\u001b[0m\u001b[1;33m\u001b[0m\u001b[1;33m\u001b[0m\u001b[0m\n",
      "\u001b[1;32m~\\anaconda3\\lib\\site-packages\\pandas\\core\\computation\\expressions.py\u001b[0m in \u001b[0;36mevaluate\u001b[1;34m(op, a, b, use_numexpr)\u001b[0m\n\u001b[0;32m    234\u001b[0m             \u001b[1;31m# error: \"None\" not callable\u001b[0m\u001b[1;33m\u001b[0m\u001b[1;33m\u001b[0m\u001b[1;33m\u001b[0m\u001b[0m\n\u001b[1;32m--> 235\u001b[1;33m             \u001b[1;32mreturn\u001b[0m \u001b[0m_evaluate\u001b[0m\u001b[1;33m(\u001b[0m\u001b[0mop\u001b[0m\u001b[1;33m,\u001b[0m \u001b[0mop_str\u001b[0m\u001b[1;33m,\u001b[0m \u001b[0ma\u001b[0m\u001b[1;33m,\u001b[0m \u001b[0mb\u001b[0m\u001b[1;33m)\u001b[0m  \u001b[1;31m# type: ignore[misc]\u001b[0m\u001b[1;33m\u001b[0m\u001b[1;33m\u001b[0m\u001b[0m\n\u001b[0m\u001b[0;32m    236\u001b[0m     \u001b[1;32mreturn\u001b[0m \u001b[0m_evaluate_standard\u001b[0m\u001b[1;33m(\u001b[0m\u001b[0mop\u001b[0m\u001b[1;33m,\u001b[0m \u001b[0mop_str\u001b[0m\u001b[1;33m,\u001b[0m \u001b[0ma\u001b[0m\u001b[1;33m,\u001b[0m \u001b[0mb\u001b[0m\u001b[1;33m)\u001b[0m\u001b[1;33m\u001b[0m\u001b[1;33m\u001b[0m\u001b[0m\n",
      "\u001b[1;32m~\\anaconda3\\lib\\site-packages\\pandas\\core\\computation\\expressions.py\u001b[0m in \u001b[0;36m_evaluate_numexpr\u001b[1;34m(op, op_str, a, b)\u001b[0m\n\u001b[0;32m    119\u001b[0m     \u001b[1;32mif\u001b[0m \u001b[0mresult\u001b[0m \u001b[1;32mis\u001b[0m \u001b[1;32mNone\u001b[0m\u001b[1;33m:\u001b[0m\u001b[1;33m\u001b[0m\u001b[1;33m\u001b[0m\u001b[0m\n\u001b[1;32m--> 120\u001b[1;33m         \u001b[0mresult\u001b[0m \u001b[1;33m=\u001b[0m \u001b[0m_evaluate_standard\u001b[0m\u001b[1;33m(\u001b[0m\u001b[0mop\u001b[0m\u001b[1;33m,\u001b[0m \u001b[0mop_str\u001b[0m\u001b[1;33m,\u001b[0m \u001b[0ma\u001b[0m\u001b[1;33m,\u001b[0m \u001b[0mb\u001b[0m\u001b[1;33m)\u001b[0m\u001b[1;33m\u001b[0m\u001b[1;33m\u001b[0m\u001b[0m\n\u001b[0m\u001b[0;32m    121\u001b[0m \u001b[1;33m\u001b[0m\u001b[0m\n",
      "\u001b[1;32m~\\anaconda3\\lib\\site-packages\\pandas\\core\\computation\\expressions.py\u001b[0m in \u001b[0;36m_evaluate_standard\u001b[1;34m(op, op_str, a, b)\u001b[0m\n\u001b[0;32m     68\u001b[0m     \u001b[1;32mwith\u001b[0m \u001b[0mnp\u001b[0m\u001b[1;33m.\u001b[0m\u001b[0merrstate\u001b[0m\u001b[1;33m(\u001b[0m\u001b[0mall\u001b[0m\u001b[1;33m=\u001b[0m\u001b[1;34m\"ignore\"\u001b[0m\u001b[1;33m)\u001b[0m\u001b[1;33m:\u001b[0m\u001b[1;33m\u001b[0m\u001b[1;33m\u001b[0m\u001b[0m\n\u001b[1;32m---> 69\u001b[1;33m         \u001b[1;32mreturn\u001b[0m \u001b[0mop\u001b[0m\u001b[1;33m(\u001b[0m\u001b[0ma\u001b[0m\u001b[1;33m,\u001b[0m \u001b[0mb\u001b[0m\u001b[1;33m)\u001b[0m\u001b[1;33m\u001b[0m\u001b[1;33m\u001b[0m\u001b[0m\n\u001b[0m\u001b[0;32m     70\u001b[0m \u001b[1;33m\u001b[0m\u001b[0m\n",
      "\u001b[1;31mTypeError\u001b[0m: can only concatenate str (not \"list\") to str",
      "\nDuring handling of the above exception, another exception occurred:\n",
      "\u001b[1;31mTypeError\u001b[0m                                 Traceback (most recent call last)",
      "\u001b[1;32m<ipython-input-42-9b4890cf4df6>\u001b[0m in \u001b[0;36m<module>\u001b[1;34m\u001b[0m\n\u001b[1;32m----> 1\u001b[1;33m \u001b[0mmovies\u001b[0m\u001b[1;33m[\u001b[0m\u001b[1;34m'tags'\u001b[0m\u001b[1;33m]\u001b[0m\u001b[1;33m=\u001b[0m\u001b[0mmovies\u001b[0m\u001b[1;33m[\u001b[0m\u001b[1;34m'overview'\u001b[0m\u001b[1;33m]\u001b[0m\u001b[1;33m+\u001b[0m\u001b[0mmovies\u001b[0m\u001b[1;33m[\u001b[0m\u001b[1;34m'genres'\u001b[0m\u001b[1;33m]\u001b[0m\u001b[1;33m+\u001b[0m\u001b[0mmovies\u001b[0m\u001b[1;33m[\u001b[0m\u001b[1;34m'keywords'\u001b[0m\u001b[1;33m]\u001b[0m\u001b[1;33m+\u001b[0m\u001b[0mmovies\u001b[0m\u001b[1;33m[\u001b[0m\u001b[1;34m'cast'\u001b[0m\u001b[1;33m]\u001b[0m\u001b[1;33m\u001b[0m\u001b[1;33m\u001b[0m\u001b[0m\n\u001b[0m",
      "\u001b[1;32m~\\anaconda3\\lib\\site-packages\\pandas\\core\\ops\\common.py\u001b[0m in \u001b[0;36mnew_method\u001b[1;34m(self, other)\u001b[0m\n\u001b[0;32m     63\u001b[0m         \u001b[0mother\u001b[0m \u001b[1;33m=\u001b[0m \u001b[0mitem_from_zerodim\u001b[0m\u001b[1;33m(\u001b[0m\u001b[0mother\u001b[0m\u001b[1;33m)\u001b[0m\u001b[1;33m\u001b[0m\u001b[1;33m\u001b[0m\u001b[0m\n\u001b[0;32m     64\u001b[0m \u001b[1;33m\u001b[0m\u001b[0m\n\u001b[1;32m---> 65\u001b[1;33m         \u001b[1;32mreturn\u001b[0m \u001b[0mmethod\u001b[0m\u001b[1;33m(\u001b[0m\u001b[0mself\u001b[0m\u001b[1;33m,\u001b[0m \u001b[0mother\u001b[0m\u001b[1;33m)\u001b[0m\u001b[1;33m\u001b[0m\u001b[1;33m\u001b[0m\u001b[0m\n\u001b[0m\u001b[0;32m     66\u001b[0m \u001b[1;33m\u001b[0m\u001b[0m\n\u001b[0;32m     67\u001b[0m     \u001b[1;32mreturn\u001b[0m \u001b[0mnew_method\u001b[0m\u001b[1;33m\u001b[0m\u001b[1;33m\u001b[0m\u001b[0m\n",
      "\u001b[1;32m~\\anaconda3\\lib\\site-packages\\pandas\\core\\arraylike.py\u001b[0m in \u001b[0;36m__add__\u001b[1;34m(self, other)\u001b[0m\n\u001b[0;32m     87\u001b[0m     \u001b[1;33m@\u001b[0m\u001b[0munpack_zerodim_and_defer\u001b[0m\u001b[1;33m(\u001b[0m\u001b[1;34m\"__add__\"\u001b[0m\u001b[1;33m)\u001b[0m\u001b[1;33m\u001b[0m\u001b[1;33m\u001b[0m\u001b[0m\n\u001b[0;32m     88\u001b[0m     \u001b[1;32mdef\u001b[0m \u001b[0m__add__\u001b[0m\u001b[1;33m(\u001b[0m\u001b[0mself\u001b[0m\u001b[1;33m,\u001b[0m \u001b[0mother\u001b[0m\u001b[1;33m)\u001b[0m\u001b[1;33m:\u001b[0m\u001b[1;33m\u001b[0m\u001b[1;33m\u001b[0m\u001b[0m\n\u001b[1;32m---> 89\u001b[1;33m         \u001b[1;32mreturn\u001b[0m \u001b[0mself\u001b[0m\u001b[1;33m.\u001b[0m\u001b[0m_arith_method\u001b[0m\u001b[1;33m(\u001b[0m\u001b[0mother\u001b[0m\u001b[1;33m,\u001b[0m \u001b[0moperator\u001b[0m\u001b[1;33m.\u001b[0m\u001b[0madd\u001b[0m\u001b[1;33m)\u001b[0m\u001b[1;33m\u001b[0m\u001b[1;33m\u001b[0m\u001b[0m\n\u001b[0m\u001b[0;32m     90\u001b[0m \u001b[1;33m\u001b[0m\u001b[0m\n\u001b[0;32m     91\u001b[0m     \u001b[1;33m@\u001b[0m\u001b[0munpack_zerodim_and_defer\u001b[0m\u001b[1;33m(\u001b[0m\u001b[1;34m\"__radd__\"\u001b[0m\u001b[1;33m)\u001b[0m\u001b[1;33m\u001b[0m\u001b[1;33m\u001b[0m\u001b[0m\n",
      "\u001b[1;32m~\\anaconda3\\lib\\site-packages\\pandas\\core\\series.py\u001b[0m in \u001b[0;36m_arith_method\u001b[1;34m(self, other, op)\u001b[0m\n\u001b[0;32m   4996\u001b[0m         \u001b[0mlvalues\u001b[0m \u001b[1;33m=\u001b[0m \u001b[0mextract_array\u001b[0m\u001b[1;33m(\u001b[0m\u001b[0mself\u001b[0m\u001b[1;33m,\u001b[0m \u001b[0mextract_numpy\u001b[0m\u001b[1;33m=\u001b[0m\u001b[1;32mTrue\u001b[0m\u001b[1;33m)\u001b[0m\u001b[1;33m\u001b[0m\u001b[1;33m\u001b[0m\u001b[0m\n\u001b[0;32m   4997\u001b[0m         \u001b[0mrvalues\u001b[0m \u001b[1;33m=\u001b[0m \u001b[0mextract_array\u001b[0m\u001b[1;33m(\u001b[0m\u001b[0mother\u001b[0m\u001b[1;33m,\u001b[0m \u001b[0mextract_numpy\u001b[0m\u001b[1;33m=\u001b[0m\u001b[1;32mTrue\u001b[0m\u001b[1;33m)\u001b[0m\u001b[1;33m\u001b[0m\u001b[1;33m\u001b[0m\u001b[0m\n\u001b[1;32m-> 4998\u001b[1;33m         \u001b[0mresult\u001b[0m \u001b[1;33m=\u001b[0m \u001b[0mops\u001b[0m\u001b[1;33m.\u001b[0m\u001b[0marithmetic_op\u001b[0m\u001b[1;33m(\u001b[0m\u001b[0mlvalues\u001b[0m\u001b[1;33m,\u001b[0m \u001b[0mrvalues\u001b[0m\u001b[1;33m,\u001b[0m \u001b[0mop\u001b[0m\u001b[1;33m)\u001b[0m\u001b[1;33m\u001b[0m\u001b[1;33m\u001b[0m\u001b[0m\n\u001b[0m\u001b[0;32m   4999\u001b[0m \u001b[1;33m\u001b[0m\u001b[0m\n\u001b[0;32m   5000\u001b[0m         \u001b[1;32mreturn\u001b[0m \u001b[0mself\u001b[0m\u001b[1;33m.\u001b[0m\u001b[0m_construct_result\u001b[0m\u001b[1;33m(\u001b[0m\u001b[0mresult\u001b[0m\u001b[1;33m,\u001b[0m \u001b[0mname\u001b[0m\u001b[1;33m=\u001b[0m\u001b[0mres_name\u001b[0m\u001b[1;33m)\u001b[0m\u001b[1;33m\u001b[0m\u001b[1;33m\u001b[0m\u001b[0m\n",
      "\u001b[1;32m~\\anaconda3\\lib\\site-packages\\pandas\\core\\ops\\array_ops.py\u001b[0m in \u001b[0;36marithmetic_op\u001b[1;34m(left, right, op)\u001b[0m\n\u001b[0;32m    187\u001b[0m     \u001b[1;32melse\u001b[0m\u001b[1;33m:\u001b[0m\u001b[1;33m\u001b[0m\u001b[1;33m\u001b[0m\u001b[0m\n\u001b[0;32m    188\u001b[0m         \u001b[1;32mwith\u001b[0m \u001b[0mnp\u001b[0m\u001b[1;33m.\u001b[0m\u001b[0merrstate\u001b[0m\u001b[1;33m(\u001b[0m\u001b[0mall\u001b[0m\u001b[1;33m=\u001b[0m\u001b[1;34m\"ignore\"\u001b[0m\u001b[1;33m)\u001b[0m\u001b[1;33m:\u001b[0m\u001b[1;33m\u001b[0m\u001b[1;33m\u001b[0m\u001b[0m\n\u001b[1;32m--> 189\u001b[1;33m             \u001b[0mres_values\u001b[0m \u001b[1;33m=\u001b[0m \u001b[0m_na_arithmetic_op\u001b[0m\u001b[1;33m(\u001b[0m\u001b[0mlvalues\u001b[0m\u001b[1;33m,\u001b[0m \u001b[0mrvalues\u001b[0m\u001b[1;33m,\u001b[0m \u001b[0mop\u001b[0m\u001b[1;33m)\u001b[0m\u001b[1;33m\u001b[0m\u001b[1;33m\u001b[0m\u001b[0m\n\u001b[0m\u001b[0;32m    190\u001b[0m \u001b[1;33m\u001b[0m\u001b[0m\n\u001b[0;32m    191\u001b[0m     \u001b[1;32mreturn\u001b[0m \u001b[0mres_values\u001b[0m\u001b[1;33m\u001b[0m\u001b[1;33m\u001b[0m\u001b[0m\n",
      "\u001b[1;32m~\\anaconda3\\lib\\site-packages\\pandas\\core\\ops\\array_ops.py\u001b[0m in \u001b[0;36m_na_arithmetic_op\u001b[1;34m(left, right, op, is_cmp)\u001b[0m\n\u001b[0;32m    147\u001b[0m             \u001b[1;31m#  will handle complex numbers incorrectly, see GH#32047\u001b[0m\u001b[1;33m\u001b[0m\u001b[1;33m\u001b[0m\u001b[1;33m\u001b[0m\u001b[0m\n\u001b[0;32m    148\u001b[0m             \u001b[1;32mraise\u001b[0m\u001b[1;33m\u001b[0m\u001b[1;33m\u001b[0m\u001b[0m\n\u001b[1;32m--> 149\u001b[1;33m         \u001b[0mresult\u001b[0m \u001b[1;33m=\u001b[0m \u001b[0m_masked_arith_op\u001b[0m\u001b[1;33m(\u001b[0m\u001b[0mleft\u001b[0m\u001b[1;33m,\u001b[0m \u001b[0mright\u001b[0m\u001b[1;33m,\u001b[0m \u001b[0mop\u001b[0m\u001b[1;33m)\u001b[0m\u001b[1;33m\u001b[0m\u001b[1;33m\u001b[0m\u001b[0m\n\u001b[0m\u001b[0;32m    150\u001b[0m \u001b[1;33m\u001b[0m\u001b[0m\n\u001b[0;32m    151\u001b[0m     \u001b[1;32mif\u001b[0m \u001b[0mis_cmp\u001b[0m \u001b[1;32mand\u001b[0m \u001b[1;33m(\u001b[0m\u001b[0mis_scalar\u001b[0m\u001b[1;33m(\u001b[0m\u001b[0mresult\u001b[0m\u001b[1;33m)\u001b[0m \u001b[1;32mor\u001b[0m \u001b[0mresult\u001b[0m \u001b[1;32mis\u001b[0m \u001b[0mNotImplemented\u001b[0m\u001b[1;33m)\u001b[0m\u001b[1;33m:\u001b[0m\u001b[1;33m\u001b[0m\u001b[1;33m\u001b[0m\u001b[0m\n",
      "\u001b[1;32m~\\anaconda3\\lib\\site-packages\\pandas\\core\\ops\\array_ops.py\u001b[0m in \u001b[0;36m_masked_arith_op\u001b[1;34m(x, y, op)\u001b[0m\n\u001b[0;32m     89\u001b[0m         \u001b[1;32mif\u001b[0m \u001b[0mmask\u001b[0m\u001b[1;33m.\u001b[0m\u001b[0many\u001b[0m\u001b[1;33m(\u001b[0m\u001b[1;33m)\u001b[0m\u001b[1;33m:\u001b[0m\u001b[1;33m\u001b[0m\u001b[1;33m\u001b[0m\u001b[0m\n\u001b[0;32m     90\u001b[0m             \u001b[1;32mwith\u001b[0m \u001b[0mnp\u001b[0m\u001b[1;33m.\u001b[0m\u001b[0merrstate\u001b[0m\u001b[1;33m(\u001b[0m\u001b[0mall\u001b[0m\u001b[1;33m=\u001b[0m\u001b[1;34m\"ignore\"\u001b[0m\u001b[1;33m)\u001b[0m\u001b[1;33m:\u001b[0m\u001b[1;33m\u001b[0m\u001b[1;33m\u001b[0m\u001b[0m\n\u001b[1;32m---> 91\u001b[1;33m                 \u001b[0mresult\u001b[0m\u001b[1;33m[\u001b[0m\u001b[0mmask\u001b[0m\u001b[1;33m]\u001b[0m \u001b[1;33m=\u001b[0m \u001b[0mop\u001b[0m\u001b[1;33m(\u001b[0m\u001b[0mxrav\u001b[0m\u001b[1;33m[\u001b[0m\u001b[0mmask\u001b[0m\u001b[1;33m]\u001b[0m\u001b[1;33m,\u001b[0m \u001b[0myrav\u001b[0m\u001b[1;33m[\u001b[0m\u001b[0mmask\u001b[0m\u001b[1;33m]\u001b[0m\u001b[1;33m)\u001b[0m\u001b[1;33m\u001b[0m\u001b[1;33m\u001b[0m\u001b[0m\n\u001b[0m\u001b[0;32m     92\u001b[0m \u001b[1;33m\u001b[0m\u001b[0m\n\u001b[0;32m     93\u001b[0m     \u001b[1;32melse\u001b[0m\u001b[1;33m:\u001b[0m\u001b[1;33m\u001b[0m\u001b[1;33m\u001b[0m\u001b[0m\n",
      "\u001b[1;31mTypeError\u001b[0m: can only concatenate str (not \"list\") to str"
     ]
    }
   ],
   "source": [
    "movies['tags']=movies['overview']+movies['genres']+movies['keywords']+movies['cast']"
   ]
  },
  {
   "cell_type": "code",
   "execution_count": 43,
   "id": "b136a946",
   "metadata": {},
   "outputs": [],
   "source": [
    "#lets first convert into string by using split on list"
   ]
  },
  {
   "cell_type": "code",
   "execution_count": 44,
   "id": "d7c0cc8a",
   "metadata": {},
   "outputs": [],
   "source": [
    "movies['overview']=movies['overview'].apply(lambda x:x.split(x))"
   ]
  },
  {
   "cell_type": "code",
   "execution_count": 45,
   "id": "ee5e36f0",
   "metadata": {},
   "outputs": [
    {
     "data": {
      "text/plain": [
       "array([list(['', '']), list(['', '']), list(['', '']), ...,\n",
       "       list(['', '']), list(['', '']), list(['', ''])], dtype=object)"
      ]
     },
     "execution_count": 45,
     "metadata": {},
     "output_type": "execute_result"
    }
   ],
   "source": [
    "movies['overview'].values"
   ]
  },
  {
   "cell_type": "code",
   "execution_count": 46,
   "id": "fb4a9a4d",
   "metadata": {},
   "outputs": [],
   "source": [
    "movies['tags']=movies['overview']+movies['genres']+movies['keywords']+movies['cast']"
   ]
  },
  {
   "cell_type": "code",
   "execution_count": 47,
   "id": "e76adbec",
   "metadata": {},
   "outputs": [
    {
     "data": {
      "text/html": [
       "<div>\n",
       "<style scoped>\n",
       "    .dataframe tbody tr th:only-of-type {\n",
       "        vertical-align: middle;\n",
       "    }\n",
       "\n",
       "    .dataframe tbody tr th {\n",
       "        vertical-align: top;\n",
       "    }\n",
       "\n",
       "    .dataframe thead th {\n",
       "        text-align: right;\n",
       "    }\n",
       "</style>\n",
       "<table border=\"1\" class=\"dataframe\">\n",
       "  <thead>\n",
       "    <tr style=\"text-align: right;\">\n",
       "      <th></th>\n",
       "      <th>movie_id</th>\n",
       "      <th>title</th>\n",
       "      <th>overview</th>\n",
       "      <th>genres</th>\n",
       "      <th>keywords</th>\n",
       "      <th>cast</th>\n",
       "      <th>tags</th>\n",
       "    </tr>\n",
       "  </thead>\n",
       "  <tbody>\n",
       "    <tr>\n",
       "      <th>0</th>\n",
       "      <td>19995</td>\n",
       "      <td>Avatar</td>\n",
       "      <td>[, ]</td>\n",
       "      <td>[Action, Adventure, Fantasy, ScienceFiction]</td>\n",
       "      <td>[cultureclash, future, spacewar, spacecolony, ...</td>\n",
       "      <td>[SamWorthington, ZoeSaldana, SigourneyWeaver]</td>\n",
       "      <td>[, , Action, Adventure, Fantasy, ScienceFictio...</td>\n",
       "    </tr>\n",
       "  </tbody>\n",
       "</table>\n",
       "</div>"
      ],
      "text/plain": [
       "  movie_id   title overview                                        genres  \\\n",
       "0    19995  Avatar     [, ]  [Action, Adventure, Fantasy, ScienceFiction]   \n",
       "\n",
       "                                            keywords  \\\n",
       "0  [cultureclash, future, spacewar, spacecolony, ...   \n",
       "\n",
       "                                            cast  \\\n",
       "0  [SamWorthington, ZoeSaldana, SigourneyWeaver]   \n",
       "\n",
       "                                                tags  \n",
       "0  [, , Action, Adventure, Fantasy, ScienceFictio...  "
      ]
     },
     "execution_count": 47,
     "metadata": {},
     "output_type": "execute_result"
    }
   ],
   "source": [
    "movies.head(1)"
   ]
  },
  {
   "cell_type": "code",
   "execution_count": 48,
   "id": "2452cc8d",
   "metadata": {},
   "outputs": [],
   "source": [
    "#lets remove dose columns nd just keep tags instead"
   ]
  },
  {
   "cell_type": "code",
   "execution_count": 49,
   "id": "caa5e10a",
   "metadata": {},
   "outputs": [],
   "source": [
    "new=movies[['movie_id','title','tags']]"
   ]
  },
  {
   "cell_type": "code",
   "execution_count": 50,
   "id": "b596b727",
   "metadata": {},
   "outputs": [
    {
     "name": "stderr",
     "output_type": "stream",
     "text": [
      "<ipython-input-50-66e2350ea654>:1: SettingWithCopyWarning: \n",
      "A value is trying to be set on a copy of a slice from a DataFrame.\n",
      "Try using .loc[row_indexer,col_indexer] = value instead\n",
      "\n",
      "See the caveats in the documentation: https://pandas.pydata.org/pandas-docs/stable/user_guide/indexing.html#returning-a-view-versus-a-copy\n",
      "  new['tags']=new['tags'].apply(lambda x:\" \".join(x))\n"
     ]
    }
   ],
   "source": [
    "new['tags']=new['tags'].apply(lambda x:\" \".join(x))"
   ]
  },
  {
   "cell_type": "code",
   "execution_count": 51,
   "id": "b3e00dcd",
   "metadata": {},
   "outputs": [
    {
     "data": {
      "text/html": [
       "<div>\n",
       "<style scoped>\n",
       "    .dataframe tbody tr th:only-of-type {\n",
       "        vertical-align: middle;\n",
       "    }\n",
       "\n",
       "    .dataframe tbody tr th {\n",
       "        vertical-align: top;\n",
       "    }\n",
       "\n",
       "    .dataframe thead th {\n",
       "        text-align: right;\n",
       "    }\n",
       "</style>\n",
       "<table border=\"1\" class=\"dataframe\">\n",
       "  <thead>\n",
       "    <tr style=\"text-align: right;\">\n",
       "      <th></th>\n",
       "      <th>movie_id</th>\n",
       "      <th>title</th>\n",
       "      <th>tags</th>\n",
       "    </tr>\n",
       "  </thead>\n",
       "  <tbody>\n",
       "    <tr>\n",
       "      <th>0</th>\n",
       "      <td>19995</td>\n",
       "      <td>Avatar</td>\n",
       "      <td>Action Adventure Fantasy ScienceFiction cult...</td>\n",
       "    </tr>\n",
       "  </tbody>\n",
       "</table>\n",
       "</div>"
      ],
      "text/plain": [
       "  movie_id   title                                               tags\n",
       "0    19995  Avatar    Action Adventure Fantasy ScienceFiction cult..."
      ]
     },
     "execution_count": 51,
     "metadata": {},
     "output_type": "execute_result"
    }
   ],
   "source": [
    "#movies.head(1)\n",
    "new.head(1)"
   ]
  },
  {
   "cell_type": "code",
   "execution_count": 52,
   "id": "9ca35b95",
   "metadata": {},
   "outputs": [],
   "source": [
    "from sklearn.feature_extraction.text import CountVectorizer\n",
    "cv = CountVectorizer(max_features=5000,stop_words='english')"
   ]
  },
  {
   "cell_type": "code",
   "execution_count": 53,
   "id": "a7c10b09",
   "metadata": {},
   "outputs": [
    {
     "data": {
      "text/plain": [
       "(4802, 3)"
      ]
     },
     "execution_count": 53,
     "metadata": {},
     "output_type": "execute_result"
    }
   ],
   "source": [
    "movies.shape\n",
    "new.shape"
   ]
  },
  {
   "cell_type": "code",
   "execution_count": 54,
   "id": "e1ee0324",
   "metadata": {},
   "outputs": [],
   "source": [
    "vector=cv.fit_transform(new['tags']).toarray()"
   ]
  },
  {
   "cell_type": "code",
   "execution_count": 55,
   "id": "8dc499a8",
   "metadata": {},
   "outputs": [
    {
     "data": {
      "text/plain": [
       "(4802, 5000)"
      ]
     },
     "execution_count": 55,
     "metadata": {},
     "output_type": "execute_result"
    }
   ],
   "source": [
    "vector.shape"
   ]
  },
  {
   "cell_type": "code",
   "execution_count": 56,
   "id": "784bf825",
   "metadata": {},
   "outputs": [],
   "source": [
    "from sklearn.metrics.pairwise import cosine_similarity"
   ]
  },
  {
   "cell_type": "code",
   "execution_count": 57,
   "id": "b53fb045",
   "metadata": {},
   "outputs": [],
   "source": [
    "similarity=cosine_similarity(vector)"
   ]
  },
  {
   "cell_type": "code",
   "execution_count": 58,
   "id": "dc79a0e7",
   "metadata": {},
   "outputs": [
    {
     "data": {
      "text/plain": [
       "744"
      ]
     },
     "execution_count": 58,
     "metadata": {},
     "output_type": "execute_result"
    }
   ],
   "source": [
    "new[new['title'] == 'The Lego Movie'].index[0]"
   ]
  },
  {
   "cell_type": "code",
   "execution_count": 59,
   "id": "e5b36d62",
   "metadata": {},
   "outputs": [],
   "source": [
    "def recommend(movie):\n",
    "    index = new[new['title'] == movie].index[0]\n",
    "    distances = sorted(list(enumerate(similarity[index])),reverse=True,key = lambda x: x[1])\n",
    "    for i in distances[1:6]:\n",
    "        print(new.iloc[i[0]].title)\n",
    "        "
   ]
  },
  {
   "cell_type": "code",
   "execution_count": 60,
   "id": "2437d6f9",
   "metadata": {},
   "outputs": [
    {
     "name": "stdout",
     "output_type": "stream",
     "text": [
      "Star Trek Into Darkness\n",
      "Jupiter Ascending\n",
      "The Lovers\n",
      "Megaforce\n",
      "The Time Machine\n"
     ]
    }
   ],
   "source": [
    "recommend('Avatar')"
   ]
  },
  {
   "cell_type": "code",
   "execution_count": 61,
   "id": "9b13569c",
   "metadata": {},
   "outputs": [
    {
     "data": {
      "text/plain": [
       "0                                         Avatar\n",
       "1       Pirates of the Caribbean: At World's End\n",
       "2                                        Spectre\n",
       "3                          The Dark Knight Rises\n",
       "4                                    John Carter\n",
       "                          ...                   \n",
       "4804                                 El Mariachi\n",
       "4805                                   Newlyweds\n",
       "4806                   Signed, Sealed, Delivered\n",
       "4807                            Shanghai Calling\n",
       "4808                           My Date with Drew\n",
       "Name: title, Length: 4802, dtype: object"
      ]
     },
     "execution_count": 61,
     "metadata": {},
     "output_type": "execute_result"
    }
   ],
   "source": [
    "new['title']"
   ]
  },
  {
   "cell_type": "code",
   "execution_count": 62,
   "id": "e7e58c83",
   "metadata": {},
   "outputs": [
    {
     "name": "stdout",
     "output_type": "stream",
     "text": [
      "The Dark Knight\n",
      "Batman Begins\n",
      "Harsh Times\n",
      "Shinjuku Incident\n",
      "Raise the Titanic\n"
     ]
    }
   ],
   "source": [
    "recommend('The Dark Knight Rises')"
   ]
  },
  {
   "cell_type": "code",
   "execution_count": 63,
   "id": "b5adad24",
   "metadata": {},
   "outputs": [],
   "source": [
    "#model is working now \n",
    "#lets build an app"
   ]
  },
  {
   "cell_type": "code",
   "execution_count": 64,
   "id": "b714c440",
   "metadata": {},
   "outputs": [],
   "source": [
    "import pickle"
   ]
  },
  {
   "cell_type": "code",
   "execution_count": 65,
   "id": "eeaa16da",
   "metadata": {},
   "outputs": [],
   "source": [
    "pickle.dump(new,open('movie_list.pkl','wb'))\n",
    "pickle.dump(similarity,open('similarity.pkl','wb'))"
   ]
  },
  {
   "cell_type": "code",
   "execution_count": 66,
   "id": "fe6b83f0",
   "metadata": {},
   "outputs": [
    {
     "data": {
      "text/plain": [
       "array(['Avatar', \"Pirates of the Caribbean: At World's End\", 'Spectre',\n",
       "       ..., 'Signed, Sealed, Delivered', 'Shanghai Calling',\n",
       "       'My Date with Drew'], dtype=object)"
      ]
     },
     "execution_count": 66,
     "metadata": {},
     "output_type": "execute_result"
    }
   ],
   "source": [
    "new['title'].values"
   ]
  },
  {
   "cell_type": "code",
   "execution_count": 67,
   "id": "8c1cfb4a",
   "metadata": {},
   "outputs": [],
   "source": [
    "pickle.dump(new.to_dict(),open('movies_dict.pkl','wb'))"
   ]
  },
  {
   "cell_type": "code",
   "execution_count": 68,
   "id": "ab3a1271",
   "metadata": {},
   "outputs": [],
   "source": [
    "pickle.dump(similarity,open('similarity.pkl','wb'))"
   ]
  },
  {
   "cell_type": "code",
   "execution_count": null,
   "id": "63ede965",
   "metadata": {},
   "outputs": [],
   "source": []
  }
 ],
 "metadata": {
  "kernelspec": {
   "display_name": "Python 3",
   "language": "python",
   "name": "python3"
  },
  "language_info": {
   "codemirror_mode": {
    "name": "ipython",
    "version": 3
   },
   "file_extension": ".py",
   "mimetype": "text/x-python",
   "name": "python",
   "nbconvert_exporter": "python",
   "pygments_lexer": "ipython3",
   "version": "3.8.8"
  }
 },
 "nbformat": 4,
 "nbformat_minor": 5
}
